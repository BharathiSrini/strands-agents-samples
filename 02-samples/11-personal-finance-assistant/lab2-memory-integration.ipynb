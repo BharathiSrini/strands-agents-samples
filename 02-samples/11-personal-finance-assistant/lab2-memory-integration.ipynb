{
 "cells": [
  {
   "cell_type": "markdown",
   "metadata": {},
   "source": [
    "# Lab 2: Memory Integration (15 minutes)\n",
    "\n",
    "## Learning Objectives\n",
    "- Understand short-term built-in Strands Agents memory\n",
    "- Integrate long-term memory using mem0.io\n",
    "- Store user preferences"
   ]
  },
  {
   "cell_type": "markdown",
   "metadata": {},
   "source": [
    "## Step 1: Setup"
   ]
  },
  {
   "cell_type": "code",
   "execution_count": 4,
   "metadata": {
    "execution": {
     "iopub.execute_input": "2025-07-10T19:36:58.024391Z",
     "iopub.status.busy": "2025-07-10T19:36:58.024084Z",
     "iopub.status.idle": "2025-07-10T19:36:59.921889Z",
     "shell.execute_reply": "2025-07-10T19:36:59.921088Z",
     "shell.execute_reply.started": "2025-07-10T19:36:58.024356Z"
    }
   },
   "outputs": [
    {
     "name": "stdout",
     "output_type": "stream",
     "text": [
      "📚 Loading Strands SDK...\n"
     ]
    }
   ],
   "source": [
    "# Install Strands using pip\n",
    "\n",
    "!pip install -q strands-agents strands-agents-tools mcp\n",
    "\n",
    "from strands import Agent, tool\n",
    "from strands.models import BedrockModel\n",
    "import pandas as pd\n",
    "import json\n",
    "from datetime import datetime\n",
    "\n",
    "print(\"📚 Loading Strands SDK...\")\n",
    "\n",
    "# Configure AWS Bedrock model (same as Lab 1)\n",
    "model = BedrockModel(\n",
    "    model_id=\"us.anthropic.claude-3-7-sonnet-20250219-v1:0\"\n",
    ")"
   ]
  },
  {
   "cell_type": "markdown",
   "metadata": {},
   "source": [
    "## Step 2: Understanding State Management and Agent Memory\n",
    "\n",
    "Understanding how state works in Strands is essential for building agents that can maintain context across multi-turn interactions and workflows\n",
    "\n",
    "### Short Term Memory\n",
    "**Strands Agents state** is maintained in several forms:\n",
    "\n",
    "1. Conversation History: The sequence of messages between the user and the agent.\n",
    "\n",
    "Strands uses a conversation manager to handle conversation history effectively. The default is the `SlidingWindowConversationManager`, which keeps recent messages and removes older ones when needed\n",
    "   \n",
    "2. Agent State: Stateful information outside of conversation context such as temporary variables and state, maintained across multiple requests.\n",
    "\n",
    "   \n",
    "3. Request State: Contextual information maintained within a single request.\n",
    "\n",
    "Conversation history, agent state and request state form the short term memory of the Agent, which helps the LLM with immediate context to maintain the conversation.\n",
    "\n"
   ]
  },
  {
   "cell_type": "markdown",
   "metadata": {
    "execution": {
     "iopub.execute_input": "2025-07-10T20:06:24.817628Z",
     "iopub.status.busy": "2025-07-10T20:06:24.816906Z",
     "iopub.status.idle": "2025-07-10T20:06:24.821032Z",
     "shell.execute_reply": "2025-07-10T20:06:24.820104Z",
     "shell.execute_reply.started": "2025-07-10T20:06:24.817603Z"
    }
   },
   "source": [
    "#### 2.1 Short Term memory: Conversation History"
   ]
  },
  {
   "cell_type": "code",
   "execution_count": 15,
   "metadata": {
    "execution": {
     "iopub.execute_input": "2025-07-10T19:57:34.142814Z",
     "iopub.status.busy": "2025-07-10T19:57:34.142435Z",
     "iopub.status.idle": "2025-07-10T19:57:34.147210Z",
     "shell.execute_reply": "2025-07-10T19:57:34.146637Z",
     "shell.execute_reply.started": "2025-07-10T19:57:34.142788Z"
    }
   },
   "outputs": [],
   "source": [
    "from strands.agent.conversation_manager import SlidingWindowConversationManager\n",
    "\n",
    "# Create a conversation manager with custom window size\n",
    "# By default, SlidingWindowConversationManager is used even if not specified\n",
    "conversation_manager = SlidingWindowConversationManager(\n",
    "    window_size=10,  # Maximum number of message pairs to keep\n",
    ")\n",
    "\n",
    "# Use the conversation manager with your agent\n",
    "memory_demo_agent = Agent(\n",
    "    model=model,\n",
    "    system_prompt=\"You are a financial assistant. Keep responses concise.\",\n",
    "    conversation_manager=conversation_manager\n",
    ")"
   ]
  },
  {
   "cell_type": "markdown",
   "metadata": {},
   "source": [
    "### 📝 Test the conversational history of the Agent. Does the Agent retain context it learnt from earlier messages after message 10?"
   ]
  },
  {
   "cell_type": "code",
   "execution_count": 16,
   "metadata": {
    "execution": {
     "iopub.execute_input": "2025-07-10T19:59:54.053149Z",
     "iopub.status.busy": "2025-07-10T19:59:54.052502Z",
     "iopub.status.idle": "2025-07-10T20:00:37.606958Z",
     "shell.execute_reply": "2025-07-10T20:00:37.606245Z",
     "shell.execute_reply.started": "2025-07-10T19:59:54.053124Z"
    },
    "scrolled": true
   },
   "outputs": [
    {
     "name": "stdin",
     "output_type": "stream",
     "text": [
      "\n",
      ">  I want to save $800 per month and focus on reducing my dining expenses\n"
     ]
    },
    {
     "name": "stderr",
     "output_type": "stream",
     "text": [
      "/opt/conda/lib/python3.12/site-packages/botocore/auth.py:425: DeprecationWarning: datetime.datetime.utcnow() is deprecated and scheduled for removal in a future version. Use timezone-aware objects to represent datetimes in UTC: datetime.datetime.now(datetime.UTC).\n",
      "  datetime_now = datetime.datetime.utcnow()\n"
     ]
    },
    {
     "name": "stdout",
     "output_type": "stream",
     "text": [
      "That's a great goal. To reduce dining expenses:\n",
      "\n",
      "1. Set a specific dining budget\n",
      "2. Meal prep on weekends\n",
      "3. Cook at home more frequently \n",
      "4. Pack lunches for work/school\n",
      "5. Limit restaurant visits to special occasions\n",
      "6. Use grocery store deals and coupons\n",
      "7. Plan meals around sales items\n",
      "\n",
      "Track your spending with a budgeting app to monitor progress toward your $800 monthly savings target.\n",
      "📝 Memory now: 2 messages\n"
     ]
    },
    {
     "name": "stdin",
     "output_type": "stream",
     "text": [
      "\n",
      ">  exit\n"
     ]
    },
    {
     "name": "stdout",
     "output_type": "stream",
     "text": [
      "\n",
      "Goodbye! 👋\n"
     ]
    }
   ],
   "source": [
    "# Example prompt: \"I want to save $800 per month and focus on reducing my dining expenses\"\n",
    "\n",
    "# Interactive loop\n",
    "while True:\n",
    "    try:\n",
    "        user_input = input(\"\\n> \")\n",
    "\n",
    "        if user_input.lower() == \"exit\":\n",
    "            print(\"\\nGoodbye! 👋\")\n",
    "            break\n",
    "\n",
    "        # Call the memory agent\n",
    "        memory_demo_agent(user_input)\n",
    "        print(f\"\\n📝 Memory now: {len(memory_demo_agent.messages)} messages\")\n",
    "\n",
    "    except KeyboardInterrupt:\n",
    "        print(\"\\n\\nExecution interrupted. Exiting...\")\n",
    "        break\n",
    "    except Exception as e:\n",
    "        print(f\"\\nAn error occurred: {str(e)}\")\n",
    "        print(\"Please try a different request.\")"
   ]
  },
  {
   "cell_type": "markdown",
   "metadata": {},
   "source": [
    "#### The `agent.messages` list contains all user and assistant messages, including tool calls and tool results. This is the primary way to inspect what's happening in your agent's conversation and check it's short term memory."
   ]
  },
  {
   "cell_type": "markdown",
   "metadata": {},
   "source": [
    "#### 2.2 Short Term memory: Agent State\n",
    "\n",
    "Agent state provides key-value storage for stateful information that exists outside of the conversation context. Unlike conversation history, agent state is not passed to the model during inference but can be accessed and modified by tools and application logic"
   ]
  },
  {
   "cell_type": "code",
   "execution_count": 24,
   "metadata": {
    "execution": {
     "iopub.execute_input": "2025-07-10T20:25:38.881626Z",
     "iopub.status.busy": "2025-07-10T20:25:38.880829Z",
     "iopub.status.idle": "2025-07-10T20:25:38.887021Z",
     "shell.execute_reply": "2025-07-10T20:25:38.886181Z",
     "shell.execute_reply.started": "2025-07-10T20:25:38.881598Z"
    }
   },
   "outputs": [
    {
     "name": "stdout",
     "output_type": "stream",
     "text": [
      "{'saving_goal': '40%', 'spending_goal': '20%', 'fixed_expenses': '40%'}\n",
      "{'user_preferences': {'saving_goal': '40%', 'spending_goal': '20%', 'fixed_expenses': '40%'}, 'session_count': 0}\n"
     ]
    }
   ],
   "source": [
    "# Create an agent with initial state\n",
    "memory_demo_agent = Agent(\n",
    "    model=model,\n",
    "    system_prompt=\"You are a financial assistant. Keep responses concise.\",\n",
    "    state={\"user_preferences\": {\"saving_goal\": \"40%\", \"spending_goal\":\"20%\", \"fixed_expenses\":\"40%\"}},\n",
    "    conversation_manager=conversation_manager\n",
    ")\n",
    "\n",
    "# Access state values\n",
    "user_finance_goals = memory_demo_agent.state.get(\"user_preferences\")\n",
    "print(user_finance_goals) \n",
    "\n",
    "# Set new state values\n",
    "memory_demo_agent.state.set(\"session_count\", 0)\n",
    "\n",
    "# Get entire state\n",
    "all_state = memory_demo_agent.state.get()\n",
    "print(all_state)  # All state data as a dictionary\n",
    "\n",
    "# Delete state values\n",
    "memory_demo_agent.state.delete(\"last_action\")"
   ]
  },
  {
   "cell_type": "markdown",
   "metadata": {},
   "source": [
    "#### 2.3 Short Term memory: Request State\n",
    "\n",
    "Each agent interaction maintains a request state dictionary that persists throughout the event loop cycles and is not included in the agent's context.\n",
    "\n",
    "The request state:\n",
    "\n",
    "- Is initialized at the beginning of each agent call\n",
    "- Persists through recursive event loop cycles\n",
    "- Can be modified by callback handlers\n",
    "- Is returned in the AgentResult object"
   ]
  },
  {
   "cell_type": "code",
   "execution_count": 25,
   "metadata": {
    "execution": {
     "iopub.execute_input": "2025-07-10T20:26:20.733528Z",
     "iopub.status.busy": "2025-07-10T20:26:20.732888Z",
     "iopub.status.idle": "2025-07-10T20:26:22.488375Z",
     "shell.execute_reply": "2025-07-10T20:26:22.487501Z",
     "shell.execute_reply.started": "2025-07-10T20:26:20.733498Z"
    }
   },
   "outputs": [
    {
     "name": "stderr",
     "output_type": "stream",
     "text": [
      "/opt/conda/lib/python3.12/site-packages/botocore/auth.py:425: DeprecationWarning: datetime.datetime.utcnow() is deprecated and scheduled for removal in a future version. Use timezone-aware objects to represent datetimes in UTC: datetime.datetime.now(datetime.UTC).\n",
      "  datetime_now = datetime.datetime.utcnow()\n"
     ]
    },
    {
     "name": "stdout",
     "output_type": "stream",
     "text": [
      "Callback handler event count: 1\n",
      "Callback handler event count: 2\n",
      "Callback handler event count: 3\n",
      "Callback handler event count: 4\n",
      "{'counter': 4}\n"
     ]
    }
   ],
   "source": [
    "def custom_callback_handler(**kwargs):\n",
    "    # Access request state\n",
    "    if \"request_state\" in kwargs:\n",
    "        state = kwargs[\"request_state\"]\n",
    "        # Use or modify state as needed\n",
    "        if \"counter\" not in state:\n",
    "            state[\"counter\"] = 0\n",
    "        state[\"counter\"] += 1\n",
    "        print(f\"Callback handler event count: {state['counter']}\")\n",
    "\n",
    "memory_demo_agent = Agent(\n",
    "    model=model,\n",
    "    system_prompt=\"You are a financial assistant. Keep responses concise.\",\n",
    "    state={\"user_preferences\": {\"saving_goal\": \"40%\", \"spending_goal\":\"20%\", \"fixed_expenses\":\"40%\"}},\n",
    "    conversation_manager=conversation_manager,\n",
    "    callback_handler=custom_callback_handler\n",
    ")\n",
    "\n",
    "result = memory_demo_agent(\"Hi there!\")\n",
    "\n",
    "print(result.state)"
   ]
  },
  {
   "cell_type": "markdown",
   "metadata": {},
   "source": [
    "## Long Term Memory: Personalized Context Through Persistent Memory\n",
    "\n",
    "Now, let's integrate mem0.io and create a memory agent that can store user preferences and hold memories.\n",
    "\n",
    "**Memory Backend Options**\n",
    "The Mem0 Memory Tool supports three different backend configurations:\n",
    "\n",
    "1. OpenSearch (Recommended for AWS environments):\n",
    "\n",
    "- Requires AWS credentials and OpenSearch configuration\n",
    "- Set OPENSEARCH_HOST and optionally AWS_REGION (defaults to us-west-2)\n",
    "\n",
    "2. FAISS (Default for local development):\n",
    "\n",
    "- Uses FAISS as the local vector store backend\n",
    "- Requires faiss-cpu package for local vector storage\n",
    "- No additional configuration needed\n",
    "\n",
    "3. Mem0 Platform:\n",
    "\n",
    "- Uses the Mem0 Platform API for memory management\n",
    "- Requires a Mem0 API key : MEM0_API_KEY in the environment variables"
   ]
  },
  {
   "cell_type": "code",
   "execution_count": 8,
   "metadata": {
    "collapsed": true,
    "execution": {
     "iopub.execute_input": "2025-07-10T19:39:06.174784Z",
     "iopub.status.busy": "2025-07-10T19:39:06.174161Z",
     "iopub.status.idle": "2025-07-10T19:39:07.988333Z",
     "shell.execute_reply": "2025-07-10T19:39:07.987303Z",
     "shell.execute_reply.started": "2025-07-10T19:39:06.174755Z"
    },
    "jupyter": {
     "outputs_hidden": true
    }
   },
   "outputs": [
    {
     "name": "stdout",
     "output_type": "stream",
     "text": [
      "Requirement already satisfied: faiss-cpu in /opt/conda/lib/python3.12/site-packages (1.11.0)\n",
      "Requirement already satisfied: mem0ai in /opt/conda/lib/python3.12/site-packages (0.1.114)\n",
      "Requirement already satisfied: opensearch-py in /opt/conda/lib/python3.12/site-packages (3.0.0)\n",
      "Requirement already satisfied: numpy<3.0,>=1.25.0 in /opt/conda/lib/python3.12/site-packages (from faiss-cpu) (1.26.4)\n",
      "Requirement already satisfied: packaging in /opt/conda/lib/python3.12/site-packages (from faiss-cpu) (24.2)\n",
      "Requirement already satisfied: openai>=1.33.0 in /opt/conda/lib/python3.12/site-packages (from mem0ai) (1.94.0)\n",
      "Requirement already satisfied: posthog>=3.5.0 in /opt/conda/lib/python3.12/site-packages (from mem0ai) (6.1.0)\n",
      "Requirement already satisfied: pydantic>=2.7.3 in /opt/conda/lib/python3.12/site-packages (from mem0ai) (2.11.4)\n",
      "Requirement already satisfied: pytz>=2024.1 in /opt/conda/lib/python3.12/site-packages (from mem0ai) (2024.2)\n",
      "Requirement already satisfied: qdrant-client>=1.9.1 in /opt/conda/lib/python3.12/site-packages (from mem0ai) (1.14.3)\n",
      "Requirement already satisfied: sqlalchemy>=2.0.31 in /opt/conda/lib/python3.12/site-packages (from mem0ai) (2.0.41)\n",
      "Requirement already satisfied: urllib3!=2.2.0,!=2.2.1,<3,>=1.26.19 in /opt/conda/lib/python3.12/site-packages (from opensearch-py) (1.26.19)\n",
      "Requirement already satisfied: requests<3.0.0,>=2.32.0 in /opt/conda/lib/python3.12/site-packages (from opensearch-py) (2.32.3)\n",
      "Requirement already satisfied: python-dateutil in /opt/conda/lib/python3.12/site-packages (from opensearch-py) (2.9.0.post0)\n",
      "Requirement already satisfied: certifi>=2024.07.04 in /opt/conda/lib/python3.12/site-packages (from opensearch-py) (2025.4.26)\n",
      "Requirement already satisfied: Events in /opt/conda/lib/python3.12/site-packages (from opensearch-py) (0.5)\n",
      "Requirement already satisfied: charset_normalizer<4,>=2 in /opt/conda/lib/python3.12/site-packages (from requests<3.0.0,>=2.32.0->opensearch-py) (3.4.2)\n",
      "Requirement already satisfied: idna<4,>=2.5 in /opt/conda/lib/python3.12/site-packages (from requests<3.0.0,>=2.32.0->opensearch-py) (3.10)\n",
      "Requirement already satisfied: anyio<5,>=3.5.0 in /opt/conda/lib/python3.12/site-packages (from openai>=1.33.0->mem0ai) (4.9.0)\n",
      "Requirement already satisfied: distro<2,>=1.7.0 in /opt/conda/lib/python3.12/site-packages (from openai>=1.33.0->mem0ai) (1.9.0)\n",
      "Requirement already satisfied: httpx<1,>=0.23.0 in /opt/conda/lib/python3.12/site-packages (from openai>=1.33.0->mem0ai) (0.28.1)\n",
      "Requirement already satisfied: jiter<1,>=0.4.0 in /opt/conda/lib/python3.12/site-packages (from openai>=1.33.0->mem0ai) (0.10.0)\n",
      "Requirement already satisfied: sniffio in /opt/conda/lib/python3.12/site-packages (from openai>=1.33.0->mem0ai) (1.3.1)\n",
      "Requirement already satisfied: tqdm>4 in /opt/conda/lib/python3.12/site-packages (from openai>=1.33.0->mem0ai) (4.67.1)\n",
      "Requirement already satisfied: typing-extensions<5,>=4.11 in /opt/conda/lib/python3.12/site-packages (from openai>=1.33.0->mem0ai) (4.13.2)\n",
      "Requirement already satisfied: httpcore==1.* in /opt/conda/lib/python3.12/site-packages (from httpx<1,>=0.23.0->openai>=1.33.0->mem0ai) (1.0.9)\n",
      "Requirement already satisfied: h11>=0.16 in /opt/conda/lib/python3.12/site-packages (from httpcore==1.*->httpx<1,>=0.23.0->openai>=1.33.0->mem0ai) (0.16.0)\n",
      "Requirement already satisfied: annotated-types>=0.6.0 in /opt/conda/lib/python3.12/site-packages (from pydantic>=2.7.3->mem0ai) (0.7.0)\n",
      "Requirement already satisfied: pydantic-core==2.33.2 in /opt/conda/lib/python3.12/site-packages (from pydantic>=2.7.3->mem0ai) (2.33.2)\n",
      "Requirement already satisfied: typing-inspection>=0.4.0 in /opt/conda/lib/python3.12/site-packages (from pydantic>=2.7.3->mem0ai) (0.4.1)\n",
      "Requirement already satisfied: six>=1.5 in /opt/conda/lib/python3.12/site-packages (from posthog>=3.5.0->mem0ai) (1.17.0)\n",
      "Requirement already satisfied: backoff>=1.10.0 in /opt/conda/lib/python3.12/site-packages (from posthog>=3.5.0->mem0ai) (2.2.1)\n",
      "Requirement already satisfied: grpcio>=1.41.0 in /opt/conda/lib/python3.12/site-packages (from qdrant-client>=1.9.1->mem0ai) (1.67.1)\n",
      "Requirement already satisfied: portalocker<3.0.0,>=2.7.0 in /opt/conda/lib/python3.12/site-packages (from qdrant-client>=1.9.1->mem0ai) (2.10.1)\n",
      "Requirement already satisfied: protobuf>=3.20.0 in /opt/conda/lib/python3.12/site-packages (from qdrant-client>=1.9.1->mem0ai) (5.28.3)\n",
      "Requirement already satisfied: h2<5,>=3 in /opt/conda/lib/python3.12/site-packages (from httpx[http2]>=0.20.0->qdrant-client>=1.9.1->mem0ai) (4.2.0)\n",
      "Requirement already satisfied: hyperframe<7,>=6.1 in /opt/conda/lib/python3.12/site-packages (from h2<5,>=3->httpx[http2]>=0.20.0->qdrant-client>=1.9.1->mem0ai) (6.1.0)\n",
      "Requirement already satisfied: hpack<5,>=4.1 in /opt/conda/lib/python3.12/site-packages (from h2<5,>=3->httpx[http2]>=0.20.0->qdrant-client>=1.9.1->mem0ai) (4.1.0)\n",
      "Requirement already satisfied: greenlet>=1 in /opt/conda/lib/python3.12/site-packages (from sqlalchemy>=2.0.31->mem0ai) (3.2.2)\n"
     ]
    }
   ],
   "source": [
    "# For CPU version\n",
    "!pip install faiss-cpu mem0ai opensearch-py"
   ]
  },
  {
   "cell_type": "code",
   "execution_count": 9,
   "metadata": {
    "execution": {
     "iopub.execute_input": "2025-07-10T19:39:19.034435Z",
     "iopub.status.busy": "2025-07-10T19:39:19.034158Z",
     "iopub.status.idle": "2025-07-10T19:39:20.302164Z",
     "shell.execute_reply": "2025-07-10T19:39:20.301363Z",
     "shell.execute_reply.started": "2025-07-10T19:39:19.034412Z"
    }
   },
   "outputs": [],
   "source": [
    "import os\n",
    "import logging\n",
    "from dotenv import load_dotenv\n",
    "\n",
    "from strands import Agent\n",
    "from strands_tools import mem0_memory, use_llm\n",
    "\n",
    "logger = logging.getLogger(__name__)\n",
    "\n",
    "# Load environment variables from .env file if it exists\n",
    "load_dotenv()\n",
    "\n",
    "# Set AWS credentials and configuration\n",
    "# os.environ[\"AWS_REGION\"] = \"us-west-2\"\n",
    "# os.environ['OPENSEARCH_HOST'] = \"your-opensearch-host.us-west-2.aoss.amazonaws.com\"\n",
    "# os.environ['AWS_ACCESS_KEY_ID'] = \"your-aws-access-key-id\"\n",
    "# os.environ['AWS_SECRET_ACCESS_KEY'] = \"your-aws-secret-access-key\"\n",
    "USER_ID = \"mem0_user\""
   ]
  },
  {
   "cell_type": "markdown",
   "metadata": {
    "execution": {
     "iopub.execute_input": "2025-07-10T19:39:29.432144Z",
     "iopub.status.busy": "2025-07-10T19:39:29.431360Z",
     "iopub.status.idle": "2025-07-10T19:39:29.436597Z",
     "shell.execute_reply": "2025-07-10T19:39:29.435650Z",
     "shell.execute_reply.started": "2025-07-10T19:39:29.432115Z"
    }
   },
   "source": [
    "### Tool Overview of Memory Agent\n",
    "The memory agent utilizes two primary tools:\n",
    "\n",
    "1. memory: Enables storing and retrieving information with capabilities for:\n",
    "\n",
    "- Storing user-specific information persistently\n",
    "- Retrieving memories based on semantic relevance\n",
    "- Listing all stored memories for a user\n",
    "- Setting relevance thresholds and result limits\n",
    "\n",
    "2. use_llm: Provides language model capabilities for:\n",
    "\n",
    "- Generating conversational responses based on retrieved memories\n",
    "- Creating natural, contextual answers using memory context"
   ]
  },
  {
   "cell_type": "code",
   "execution_count": 11,
   "metadata": {
    "execution": {
     "iopub.execute_input": "2025-07-10T19:39:46.327549Z",
     "iopub.status.busy": "2025-07-10T19:39:46.327179Z",
     "iopub.status.idle": "2025-07-10T19:39:46.330940Z",
     "shell.execute_reply": "2025-07-10T19:39:46.330364Z",
     "shell.execute_reply.started": "2025-07-10T19:39:46.327526Z"
    }
   },
   "outputs": [],
   "source": [
    "# System prompt for the memory agent\n",
    "MEMORY_SYSTEM_PROMPT = f\"\"\"You are a personal finance assistant that maintains context by remembering user details.\n",
    "\n",
    "Capabilities:\n",
    "- Store new information using mem0_memory tool (action=\"store\")\n",
    "- Retrieve relevant memories (action=\"retrieve\")\n",
    "- List all memories (action=\"list\")\n",
    "- Provide personalized responses\n",
    "\n",
    "Key Rules:\n",
    "- Always include user_id={USER_ID} in tool calls\n",
    "- Be conversational and natural in responses\n",
    "- Format output clearly\n",
    "- Acknowledge stored information\n",
    "- Only share relevant information\n",
    "- Politely indicate when information is unavailable\n",
    "\"\"\""
   ]
  },
  {
   "cell_type": "code",
   "execution_count": 12,
   "metadata": {
    "execution": {
     "iopub.execute_input": "2025-07-10T19:39:58.783763Z",
     "iopub.status.busy": "2025-07-10T19:39:58.783123Z",
     "iopub.status.idle": "2025-07-10T19:39:58.853382Z",
     "shell.execute_reply": "2025-07-10T19:39:58.851665Z",
     "shell.execute_reply.started": "2025-07-10T19:39:58.783733Z"
    }
   },
   "outputs": [],
   "source": [
    "# Create an agent with memory capabilities\n",
    "memory_agent = Agent(\n",
    "    system_prompt=MEMORY_SYSTEM_PROMPT,\n",
    "    tools=[mem0_memory, use_llm],\n",
    ")"
   ]
  },
  {
   "cell_type": "code",
   "execution_count": 13,
   "metadata": {
    "execution": {
     "iopub.execute_input": "2025-07-10T19:40:30.991634Z",
     "iopub.status.busy": "2025-07-10T19:40:30.991260Z",
     "iopub.status.idle": "2025-07-10T19:40:30.996072Z",
     "shell.execute_reply": "2025-07-10T19:40:30.995297Z",
     "shell.execute_reply.started": "2025-07-10T19:40:30.991611Z"
    }
   },
   "outputs": [],
   "source": [
    "# Initialize some user preferences\n",
    "def initialize_user_preferences():\n",
    "    \"\"\"Initialize user preferences.\"\"\"\n",
    "    \n",
    "    content = \"\"\"My name is Charlie. I prefer to have a monthly budget of 40% for fixed expenses, 30% for wants and 30% saved. \n",
    "    I am planning a trip to South Korea next spring and would like to dedicate some portion from the savings to a vacation budget which over \n",
    "    12 months should amount to $4000. \n",
    "    My favourite hobbies are visiting new restaurants and look for discounts, \n",
    "    new openings which help me visit more restaurants within my budget.\"\"\"  # noqa\n",
    "    memory_agent.tool.mem0_memory(action=\"store\", content=content, user_id=USER_ID)\n"
   ]
  },
  {
   "cell_type": "markdown",
   "metadata": {},
   "source": [
    "## Test the memory agent\n",
    "- Check if the Agent provides responses with Charlie's preferences\n",
    "- If you input 'demo', the user preferences for Charlie will be initialised in the memory\n",
    "- To end the multi-turn conversation with the Agent, type 'exit'"
   ]
  },
  {
   "cell_type": "code",
   "execution_count": 14,
   "metadata": {
    "execution": {
     "iopub.execute_input": "2025-07-10T19:42:20.964392Z",
     "iopub.status.busy": "2025-07-10T19:42:20.963748Z",
     "iopub.status.idle": "2025-07-10T19:45:34.732002Z",
     "shell.execute_reply": "2025-07-10T19:45:34.731206Z",
     "shell.execute_reply.started": "2025-07-10T19:42:20.964364Z"
    }
   },
   "outputs": [
    {
     "name": "stdin",
     "output_type": "stream",
     "text": [
      "\n",
      ">  demo\n"
     ]
    },
    {
     "name": "stderr",
     "output_type": "stream",
     "text": [
      "<frozen importlib._bootstrap>:488: DeprecationWarning: builtin type SwigPyPacked has no __module__ attribute\n",
      "<frozen importlib._bootstrap>:488: DeprecationWarning: builtin type SwigPyObject has no __module__ attribute\n",
      "<frozen importlib._bootstrap>:488: DeprecationWarning: builtin type swigvarlink has no __module__ attribute\n"
     ]
    },
    {
     "data": {
      "text/html": [
       "<pre style=\"white-space:pre;overflow-x:auto;line-height:normal;font-family:Menlo,'DejaVu Sans Mono',consolas,'Courier New',monospace\"><span style=\"color: #008000; text-decoration-color: #008000\">╭─────────────────────────────────────────── </span><span style=\"color: #008000; text-decoration-color: #008000; font-weight: bold\">Memory for user mem0_user</span><span style=\"color: #008000; text-decoration-color: #008000\"> ───────────────────────────────────────────╮</span>\n",
       "<span style=\"color: #008000; text-decoration-color: #008000\">│</span> My name is Charlie. I prefer to have a monthly budget of 40% for fixed expenses, 30% for wants and 30% saved.   <span style=\"color: #008000; text-decoration-color: #008000\">│</span>\n",
       "<span style=\"color: #008000; text-decoration-color: #008000\">│</span>     I am planning a trip to South Korea next spring and would like to dedicate some portion from the savings to <span style=\"color: #008000; text-decoration-color: #008000\">│</span>\n",
       "<span style=\"color: #008000; text-decoration-color: #008000\">│</span> a vacation budget which over                                                                                    <span style=\"color: #008000; text-decoration-color: #008000\">│</span>\n",
       "<span style=\"color: #008000; text-decoration-color: #008000\">│</span>     12 months should amount to $4000.                                                                           <span style=\"color: #008000; text-decoration-color: #008000\">│</span>\n",
       "<span style=\"color: #008000; text-decoration-color: #008000\">│</span>     My favourite hobbies are visiting new restaurants and look for discounts,                                   <span style=\"color: #008000; text-decoration-color: #008000\">│</span>\n",
       "<span style=\"color: #008000; text-decoration-color: #008000\">│</span>     new openings which help me visit more restaurants within my budget.                                         <span style=\"color: #008000; text-decoration-color: #008000\">│</span>\n",
       "<span style=\"color: #008000; text-decoration-color: #008000\">╰─────────────────────────────────────────────────────────────────────────────────────────────────────────────────╯</span>\n",
       "</pre>\n"
      ],
      "text/plain": [
       "\u001b[32m╭─\u001b[0m\u001b[32m──────────────────────────────────────────\u001b[0m\u001b[32m \u001b[0m\u001b[1;32mMemory for user mem0_user\u001b[0m\u001b[32m \u001b[0m\u001b[32m──────────────────────────────────────────\u001b[0m\u001b[32m─╮\u001b[0m\n",
       "\u001b[32m│\u001b[0m My name is Charlie. I prefer to have a monthly budget of 40% for fixed expenses, 30% for wants and 30% saved.   \u001b[32m│\u001b[0m\n",
       "\u001b[32m│\u001b[0m     I am planning a trip to South Korea next spring and would like to dedicate some portion from the savings to \u001b[32m│\u001b[0m\n",
       "\u001b[32m│\u001b[0m a vacation budget which over                                                                                    \u001b[32m│\u001b[0m\n",
       "\u001b[32m│\u001b[0m     12 months should amount to $4000.                                                                           \u001b[32m│\u001b[0m\n",
       "\u001b[32m│\u001b[0m     My favourite hobbies are visiting new restaurants and look for discounts,                                   \u001b[32m│\u001b[0m\n",
       "\u001b[32m│\u001b[0m     new openings which help me visit more restaurants within my budget.                                         \u001b[32m│\u001b[0m\n",
       "\u001b[32m╰─────────────────────────────────────────────────────────────────────────────────────────────────────────────────╯\u001b[0m\n"
      ]
     },
     "metadata": {},
     "output_type": "display_data"
    },
    {
     "name": "stderr",
     "output_type": "stream",
     "text": [
      "/opt/conda/lib/python3.12/site-packages/botocore/auth.py:425: DeprecationWarning: datetime.datetime.utcnow() is deprecated and scheduled for removal in a future version. Use timezone-aware objects to represent datetimes in UTC: datetime.datetime.now(datetime.UTC).\n",
      "  datetime_now = datetime.datetime.utcnow()\n"
     ]
    },
    {
     "name": "stdout",
     "output_type": "stream",
     "text": [
      "\n",
      "User preferences for Charlie initialized!\n"
     ]
    },
    {
     "name": "stdin",
     "output_type": "stream",
     "text": [
      "\n",
      ">  My monthly salary is $4000. How should I spend this?\n"
     ]
    },
    {
     "name": "stdout",
     "output_type": "stream",
     "text": [
      "Let me retrieve your personal financial information to provide a tailored recommendation for your $4000 monthly salary.\n",
      "Tool #1: mem0_memory\n"
     ]
    },
    {
     "data": {
      "text/html": [
       "<pre style=\"white-space:pre;overflow-x:auto;line-height:normal;font-family:Menlo,'DejaVu Sans Mono',consolas,'Courier New',monospace\"><span style=\"color: #008000; text-decoration-color: #008000\">╭──────────────────────────────────────────────── </span><span style=\"color: #008000; text-decoration-color: #008000; font-weight: bold\">Search Results</span><span style=\"color: #008000; text-decoration-color: #008000\"> ─────────────────────────────────────────────────╮</span>\n",
       "<span style=\"color: #008000; text-decoration-color: #008000\">│</span> <span style=\"font-style: italic\">                                                Search Results                                                 </span> <span style=\"color: #008000; text-decoration-color: #008000\">│</span>\n",
       "<span style=\"color: #008000; text-decoration-color: #008000\">│</span> ┏━━━━━━━━━━━┳━━━━━━━━━━━━━━━━━━━━━━━━━━━━━━━━━━━━━━━━━━━━━━━━━━━━┳━━━━━━━━━━┳━━━━━━━━━━━┳━━━━━━━━━━┳━━━━━━━━━━┓ <span style=\"color: #008000; text-decoration-color: #008000\">│</span>\n",
       "<span style=\"color: #008000; text-decoration-color: #008000\">│</span> ┃<span style=\"color: #800080; text-decoration-color: #800080; font-weight: bold\">           </span>┃<span style=\"color: #800080; text-decoration-color: #800080; font-weight: bold\">                                                    </span>┃<span style=\"color: #800080; text-decoration-color: #800080; font-weight: bold\">          </span>┃<span style=\"color: #800080; text-decoration-color: #800080; font-weight: bold\"> Created   </span>┃<span style=\"color: #800080; text-decoration-color: #800080; font-weight: bold\">          </span>┃<span style=\"color: #800080; text-decoration-color: #800080; font-weight: bold\">          </span>┃ <span style=\"color: #008000; text-decoration-color: #008000\">│</span>\n",
       "<span style=\"color: #008000; text-decoration-color: #008000\">│</span> ┃<span style=\"color: #800080; text-decoration-color: #800080; font-weight: bold\"> ID        </span>┃<span style=\"color: #800080; text-decoration-color: #800080; font-weight: bold\"> Memory                                             </span>┃<span style=\"color: #800080; text-decoration-color: #800080; font-weight: bold\"> Relevan… </span>┃<span style=\"color: #800080; text-decoration-color: #800080; font-weight: bold\"> At        </span>┃<span style=\"color: #800080; text-decoration-color: #800080; font-weight: bold\"> User ID  </span>┃<span style=\"color: #800080; text-decoration-color: #800080; font-weight: bold\"> Metadata </span>┃ <span style=\"color: #008000; text-decoration-color: #008000\">│</span>\n",
       "<span style=\"color: #008000; text-decoration-color: #008000\">│</span> ┡━━━━━━━━━━━╇━━━━━━━━━━━━━━━━━━━━━━━━━━━━━━━━━━━━━━━━━━━━━━━━━━━━╇━━━━━━━━━━╇━━━━━━━━━━━╇━━━━━━━━━━╇━━━━━━━━━━┩ <span style=\"color: #008000; text-decoration-color: #008000\">│</span>\n",
       "<span style=\"color: #008000; text-decoration-color: #008000\">│</span> │<span style=\"color: #008080; text-decoration-color: #008080\"> 9d85df75… </span>│<span style=\"color: #808000; text-decoration-color: #808000\"> Prefers monthly budget allocation: 40% for fixed   </span>│<span style=\"color: #008000; text-decoration-color: #008000\"> 0.87934… </span>│<span style=\"color: #000080; text-decoration-color: #000080\"> 2025-07-… </span>│<span style=\"color: #800080; text-decoration-color: #800080\"> mem0_us… </span>│<span style=\"color: #c0c0c0; text-decoration-color: #c0c0c0\"> None     </span>│ <span style=\"color: #008000; text-decoration-color: #008000\">│</span>\n",
       "<span style=\"color: #008000; text-decoration-color: #008000\">│</span> │<span style=\"color: #008080; text-decoration-color: #008080\">           </span>│<span style=\"color: #808000; text-decoration-color: #808000\"> expenses, 30% for wants, 30% for savings           </span>│<span style=\"color: #008000; text-decoration-color: #008000\">          </span>│<span style=\"color: #000080; text-decoration-color: #000080\">           </span>│<span style=\"color: #800080; text-decoration-color: #800080\">          </span>│<span style=\"color: #c0c0c0; text-decoration-color: #c0c0c0\">          </span>│ <span style=\"color: #008000; text-decoration-color: #008000\">│</span>\n",
       "<span style=\"color: #008000; text-decoration-color: #008000\">│</span> │<span style=\"color: #008080; text-decoration-color: #008080\"> c7617323… </span>│<span style=\"color: #808000; text-decoration-color: #808000\"> Charlie's wife shares the same financial goals and </span>│<span style=\"color: #008000; text-decoration-color: #008000\"> 1.35585… </span>│<span style=\"color: #000080; text-decoration-color: #000080\"> 2025-07-… </span>│<span style=\"color: #800080; text-decoration-color: #800080\"> mem0_us… </span>│<span style=\"color: #c0c0c0; text-decoration-color: #c0c0c0\"> None     </span>│ <span style=\"color: #008000; text-decoration-color: #008000\">│</span>\n",
       "<span style=\"color: #008000; text-decoration-color: #008000\">│</span> │<span style=\"color: #008080; text-decoration-color: #008080\">           </span>│<span style=\"color: #808000; text-decoration-color: #808000\"> budget preferences                                 </span>│<span style=\"color: #008000; text-decoration-color: #008000\">          </span>│<span style=\"color: #000080; text-decoration-color: #000080\">           </span>│<span style=\"color: #800080; text-decoration-color: #800080\">          </span>│<span style=\"color: #c0c0c0; text-decoration-color: #c0c0c0\">          </span>│ <span style=\"color: #008000; text-decoration-color: #008000\">│</span>\n",
       "<span style=\"color: #008000; text-decoration-color: #008000\">│</span> │<span style=\"color: #008080; text-decoration-color: #008080\"> 0cf9ac25… </span>│<span style=\"color: #808000; text-decoration-color: #808000\"> Wants to save $4000 over 12 months for vacation    </span>│<span style=\"color: #008000; text-decoration-color: #008000\"> 1.42414… </span>│<span style=\"color: #000080; text-decoration-color: #000080\"> 2025-07-… </span>│<span style=\"color: #800080; text-decoration-color: #800080\"> mem0_us… </span>│<span style=\"color: #c0c0c0; text-decoration-color: #c0c0c0\"> None     </span>│ <span style=\"color: #008000; text-decoration-color: #008000\">│</span>\n",
       "<span style=\"color: #008000; text-decoration-color: #008000\">│</span> │<span style=\"color: #008080; text-decoration-color: #008080\">           </span>│<span style=\"color: #808000; text-decoration-color: #808000\"> budget                                             </span>│<span style=\"color: #008000; text-decoration-color: #008000\">          </span>│<span style=\"color: #000080; text-decoration-color: #000080\">           </span>│<span style=\"color: #800080; text-decoration-color: #800080\">          </span>│<span style=\"color: #c0c0c0; text-decoration-color: #c0c0c0\">          </span>│ <span style=\"color: #008000; text-decoration-color: #008000\">│</span>\n",
       "<span style=\"color: #008000; text-decoration-color: #008000\">│</span> │<span style=\"color: #008080; text-decoration-color: #008080\"> 2a6bf24f… </span>│<span style=\"color: #808000; text-decoration-color: #808000\"> Favourite hobbies are visiting new restaurants and </span>│<span style=\"color: #008000; text-decoration-color: #008000\"> 1.68137… </span>│<span style=\"color: #000080; text-decoration-color: #000080\"> 2025-07-… </span>│<span style=\"color: #800080; text-decoration-color: #800080\"> mem0_us… </span>│<span style=\"color: #c0c0c0; text-decoration-color: #c0c0c0\"> None     </span>│ <span style=\"color: #008000; text-decoration-color: #008000\">│</span>\n",
       "<span style=\"color: #008000; text-decoration-color: #008000\">│</span> │<span style=\"color: #008080; text-decoration-color: #008080\">           </span>│<span style=\"color: #808000; text-decoration-color: #808000\"> looking for discounts                              </span>│<span style=\"color: #008000; text-decoration-color: #008000\">          </span>│<span style=\"color: #000080; text-decoration-color: #000080\">           </span>│<span style=\"color: #800080; text-decoration-color: #800080\">          </span>│<span style=\"color: #c0c0c0; text-decoration-color: #c0c0c0\">          </span>│ <span style=\"color: #008000; text-decoration-color: #008000\">│</span>\n",
       "<span style=\"color: #008000; text-decoration-color: #008000\">│</span> │<span style=\"color: #008080; text-decoration-color: #008080\"> d5c5885a… </span>│<span style=\"color: #808000; text-decoration-color: #808000\"> Interested in finding new restaurant openings to   </span>│<span style=\"color: #008000; text-decoration-color: #008000\"> 1.70767… </span>│<span style=\"color: #000080; text-decoration-color: #000080\"> 2025-07-… </span>│<span style=\"color: #800080; text-decoration-color: #800080\"> mem0_us… </span>│<span style=\"color: #c0c0c0; text-decoration-color: #c0c0c0\"> None     </span>│ <span style=\"color: #008000; text-decoration-color: #008000\">│</span>\n",
       "<span style=\"color: #008000; text-decoration-color: #008000\">│</span> │<span style=\"color: #008080; text-decoration-color: #008080\">           </span>│<span style=\"color: #808000; text-decoration-color: #808000\"> maximize dining within budget                      </span>│<span style=\"color: #008000; text-decoration-color: #008000\">          </span>│<span style=\"color: #000080; text-decoration-color: #000080\">           </span>│<span style=\"color: #800080; text-decoration-color: #800080\">          </span>│<span style=\"color: #c0c0c0; text-decoration-color: #c0c0c0\">          </span>│ <span style=\"color: #008000; text-decoration-color: #008000\">│</span>\n",
       "<span style=\"color: #008000; text-decoration-color: #008000\">│</span> │<span style=\"color: #008080; text-decoration-color: #008080\"> 77eaf690… </span>│<span style=\"color: #808000; text-decoration-color: #808000\"> Planning a trip to South Korea next spring         </span>│<span style=\"color: #008000; text-decoration-color: #008000\"> 1.85922… </span>│<span style=\"color: #000080; text-decoration-color: #000080\"> 2025-07-… </span>│<span style=\"color: #800080; text-decoration-color: #800080\"> mem0_us… </span>│<span style=\"color: #c0c0c0; text-decoration-color: #c0c0c0\"> None     </span>│ <span style=\"color: #008000; text-decoration-color: #008000\">│</span>\n",
       "<span style=\"color: #008000; text-decoration-color: #008000\">│</span> │<span style=\"color: #008080; text-decoration-color: #008080\"> 709bd6a2… </span>│<span style=\"color: #808000; text-decoration-color: #808000\"> Combined monthly household income is $7,500        </span>│<span style=\"color: #008000; text-decoration-color: #008000\"> 1.87701… </span>│<span style=\"color: #000080; text-decoration-color: #000080\"> 2025-07-… </span>│<span style=\"color: #800080; text-decoration-color: #800080\"> mem0_us… </span>│<span style=\"color: #c0c0c0; text-decoration-color: #c0c0c0\"> None     </span>│ <span style=\"color: #008000; text-decoration-color: #008000\">│</span>\n",
       "<span style=\"color: #008000; text-decoration-color: #008000\">│</span> │<span style=\"color: #008080; text-decoration-color: #008080\"> d3827668… </span>│<span style=\"color: #808000; text-decoration-color: #808000\"> Charlie's monthly income is $4,500                 </span>│<span style=\"color: #008000; text-decoration-color: #008000\"> 1.91328… </span>│<span style=\"color: #000080; text-decoration-color: #000080\"> 2025-07-… </span>│<span style=\"color: #800080; text-decoration-color: #800080\"> mem0_us… </span>│<span style=\"color: #c0c0c0; text-decoration-color: #c0c0c0\"> None     </span>│ <span style=\"color: #008000; text-decoration-color: #008000\">│</span>\n",
       "<span style=\"color: #008000; text-decoration-color: #008000\">│</span> │<span style=\"color: #008080; text-decoration-color: #008080\"> 7ceac4dd… </span>│<span style=\"color: #808000; text-decoration-color: #808000\"> Charlie's wife earns $3,000 per month              </span>│<span style=\"color: #008000; text-decoration-color: #008000\"> 1.97446… </span>│<span style=\"color: #000080; text-decoration-color: #000080\"> 2025-07-… </span>│<span style=\"color: #800080; text-decoration-color: #800080\"> mem0_us… </span>│<span style=\"color: #c0c0c0; text-decoration-color: #c0c0c0\"> None     </span>│ <span style=\"color: #008000; text-decoration-color: #008000\">│</span>\n",
       "<span style=\"color: #008000; text-decoration-color: #008000\">│</span> │<span style=\"color: #008080; text-decoration-color: #008080\"> f5efe5cb… </span>│<span style=\"color: #808000; text-decoration-color: #808000\"> Name is Charlie                                    </span>│<span style=\"color: #008000; text-decoration-color: #008000\"> 2.01830… </span>│<span style=\"color: #000080; text-decoration-color: #000080\"> 2025-07-… </span>│<span style=\"color: #800080; text-decoration-color: #800080\"> mem0_us… </span>│<span style=\"color: #c0c0c0; text-decoration-color: #c0c0c0\"> None     </span>│ <span style=\"color: #008000; text-decoration-color: #008000\">│</span>\n",
       "<span style=\"color: #008000; text-decoration-color: #008000\">│</span> └───────────┴────────────────────────────────────────────────────┴──────────┴───────────┴──────────┴──────────┘ <span style=\"color: #008000; text-decoration-color: #008000\">│</span>\n",
       "<span style=\"color: #008000; text-decoration-color: #008000\">╰─────────────────────────────────────────────────────────────────────────────────────────────────────────────────╯</span>\n",
       "</pre>\n"
      ],
      "text/plain": [
       "\u001b[32m╭─\u001b[0m\u001b[32m───────────────────────────────────────────────\u001b[0m\u001b[32m \u001b[0m\u001b[1;32mSearch Results\u001b[0m\u001b[32m \u001b[0m\u001b[32m────────────────────────────────────────────────\u001b[0m\u001b[32m─╮\u001b[0m\n",
       "\u001b[32m│\u001b[0m \u001b[3m                                                Search Results                                                 \u001b[0m \u001b[32m│\u001b[0m\n",
       "\u001b[32m│\u001b[0m ┏━━━━━━━━━━━┳━━━━━━━━━━━━━━━━━━━━━━━━━━━━━━━━━━━━━━━━━━━━━━━━━━━━┳━━━━━━━━━━┳━━━━━━━━━━━┳━━━━━━━━━━┳━━━━━━━━━━┓ \u001b[32m│\u001b[0m\n",
       "\u001b[32m│\u001b[0m ┃\u001b[1;35m           \u001b[0m┃\u001b[1;35m                                                    \u001b[0m┃\u001b[1;35m          \u001b[0m┃\u001b[1;35m \u001b[0m\u001b[1;35mCreated  \u001b[0m\u001b[1;35m \u001b[0m┃\u001b[1;35m          \u001b[0m┃\u001b[1;35m          \u001b[0m┃ \u001b[32m│\u001b[0m\n",
       "\u001b[32m│\u001b[0m ┃\u001b[1;35m \u001b[0m\u001b[1;35mID       \u001b[0m\u001b[1;35m \u001b[0m┃\u001b[1;35m \u001b[0m\u001b[1;35mMemory                                            \u001b[0m\u001b[1;35m \u001b[0m┃\u001b[1;35m \u001b[0m\u001b[1;35mRelevan…\u001b[0m\u001b[1;35m \u001b[0m┃\u001b[1;35m \u001b[0m\u001b[1;35mAt       \u001b[0m\u001b[1;35m \u001b[0m┃\u001b[1;35m \u001b[0m\u001b[1;35mUser ID \u001b[0m\u001b[1;35m \u001b[0m┃\u001b[1;35m \u001b[0m\u001b[1;35mMetadata\u001b[0m\u001b[1;35m \u001b[0m┃ \u001b[32m│\u001b[0m\n",
       "\u001b[32m│\u001b[0m ┡━━━━━━━━━━━╇━━━━━━━━━━━━━━━━━━━━━━━━━━━━━━━━━━━━━━━━━━━━━━━━━━━━╇━━━━━━━━━━╇━━━━━━━━━━━╇━━━━━━━━━━╇━━━━━━━━━━┩ \u001b[32m│\u001b[0m\n",
       "\u001b[32m│\u001b[0m │\u001b[36m \u001b[0m\u001b[36m9d85df75…\u001b[0m\u001b[36m \u001b[0m│\u001b[33m \u001b[0m\u001b[33mPrefers monthly budget allocation: 40% for fixed  \u001b[0m\u001b[33m \u001b[0m│\u001b[32m \u001b[0m\u001b[32m0.87934…\u001b[0m\u001b[32m \u001b[0m│\u001b[34m \u001b[0m\u001b[34m2025-07-…\u001b[0m\u001b[34m \u001b[0m│\u001b[35m \u001b[0m\u001b[35mmem0_us…\u001b[0m\u001b[35m \u001b[0m│\u001b[37m \u001b[0m\u001b[37mNone    \u001b[0m\u001b[37m \u001b[0m│ \u001b[32m│\u001b[0m\n",
       "\u001b[32m│\u001b[0m │\u001b[36m           \u001b[0m│\u001b[33m \u001b[0m\u001b[33mexpenses, 30% for wants, 30% for savings          \u001b[0m\u001b[33m \u001b[0m│\u001b[32m          \u001b[0m│\u001b[34m           \u001b[0m│\u001b[35m          \u001b[0m│\u001b[37m          \u001b[0m│ \u001b[32m│\u001b[0m\n",
       "\u001b[32m│\u001b[0m │\u001b[36m \u001b[0m\u001b[36mc7617323…\u001b[0m\u001b[36m \u001b[0m│\u001b[33m \u001b[0m\u001b[33mCharlie's wife shares the same financial goals and\u001b[0m\u001b[33m \u001b[0m│\u001b[32m \u001b[0m\u001b[32m1.35585…\u001b[0m\u001b[32m \u001b[0m│\u001b[34m \u001b[0m\u001b[34m2025-07-…\u001b[0m\u001b[34m \u001b[0m│\u001b[35m \u001b[0m\u001b[35mmem0_us…\u001b[0m\u001b[35m \u001b[0m│\u001b[37m \u001b[0m\u001b[37mNone    \u001b[0m\u001b[37m \u001b[0m│ \u001b[32m│\u001b[0m\n",
       "\u001b[32m│\u001b[0m │\u001b[36m           \u001b[0m│\u001b[33m \u001b[0m\u001b[33mbudget preferences                                \u001b[0m\u001b[33m \u001b[0m│\u001b[32m          \u001b[0m│\u001b[34m           \u001b[0m│\u001b[35m          \u001b[0m│\u001b[37m          \u001b[0m│ \u001b[32m│\u001b[0m\n",
       "\u001b[32m│\u001b[0m │\u001b[36m \u001b[0m\u001b[36m0cf9ac25…\u001b[0m\u001b[36m \u001b[0m│\u001b[33m \u001b[0m\u001b[33mWants to save $4000 over 12 months for vacation   \u001b[0m\u001b[33m \u001b[0m│\u001b[32m \u001b[0m\u001b[32m1.42414…\u001b[0m\u001b[32m \u001b[0m│\u001b[34m \u001b[0m\u001b[34m2025-07-…\u001b[0m\u001b[34m \u001b[0m│\u001b[35m \u001b[0m\u001b[35mmem0_us…\u001b[0m\u001b[35m \u001b[0m│\u001b[37m \u001b[0m\u001b[37mNone    \u001b[0m\u001b[37m \u001b[0m│ \u001b[32m│\u001b[0m\n",
       "\u001b[32m│\u001b[0m │\u001b[36m           \u001b[0m│\u001b[33m \u001b[0m\u001b[33mbudget                                            \u001b[0m\u001b[33m \u001b[0m│\u001b[32m          \u001b[0m│\u001b[34m           \u001b[0m│\u001b[35m          \u001b[0m│\u001b[37m          \u001b[0m│ \u001b[32m│\u001b[0m\n",
       "\u001b[32m│\u001b[0m │\u001b[36m \u001b[0m\u001b[36m2a6bf24f…\u001b[0m\u001b[36m \u001b[0m│\u001b[33m \u001b[0m\u001b[33mFavourite hobbies are visiting new restaurants and\u001b[0m\u001b[33m \u001b[0m│\u001b[32m \u001b[0m\u001b[32m1.68137…\u001b[0m\u001b[32m \u001b[0m│\u001b[34m \u001b[0m\u001b[34m2025-07-…\u001b[0m\u001b[34m \u001b[0m│\u001b[35m \u001b[0m\u001b[35mmem0_us…\u001b[0m\u001b[35m \u001b[0m│\u001b[37m \u001b[0m\u001b[37mNone    \u001b[0m\u001b[37m \u001b[0m│ \u001b[32m│\u001b[0m\n",
       "\u001b[32m│\u001b[0m │\u001b[36m           \u001b[0m│\u001b[33m \u001b[0m\u001b[33mlooking for discounts                             \u001b[0m\u001b[33m \u001b[0m│\u001b[32m          \u001b[0m│\u001b[34m           \u001b[0m│\u001b[35m          \u001b[0m│\u001b[37m          \u001b[0m│ \u001b[32m│\u001b[0m\n",
       "\u001b[32m│\u001b[0m │\u001b[36m \u001b[0m\u001b[36md5c5885a…\u001b[0m\u001b[36m \u001b[0m│\u001b[33m \u001b[0m\u001b[33mInterested in finding new restaurant openings to  \u001b[0m\u001b[33m \u001b[0m│\u001b[32m \u001b[0m\u001b[32m1.70767…\u001b[0m\u001b[32m \u001b[0m│\u001b[34m \u001b[0m\u001b[34m2025-07-…\u001b[0m\u001b[34m \u001b[0m│\u001b[35m \u001b[0m\u001b[35mmem0_us…\u001b[0m\u001b[35m \u001b[0m│\u001b[37m \u001b[0m\u001b[37mNone    \u001b[0m\u001b[37m \u001b[0m│ \u001b[32m│\u001b[0m\n",
       "\u001b[32m│\u001b[0m │\u001b[36m           \u001b[0m│\u001b[33m \u001b[0m\u001b[33mmaximize dining within budget                     \u001b[0m\u001b[33m \u001b[0m│\u001b[32m          \u001b[0m│\u001b[34m           \u001b[0m│\u001b[35m          \u001b[0m│\u001b[37m          \u001b[0m│ \u001b[32m│\u001b[0m\n",
       "\u001b[32m│\u001b[0m │\u001b[36m \u001b[0m\u001b[36m77eaf690…\u001b[0m\u001b[36m \u001b[0m│\u001b[33m \u001b[0m\u001b[33mPlanning a trip to South Korea next spring        \u001b[0m\u001b[33m \u001b[0m│\u001b[32m \u001b[0m\u001b[32m1.85922…\u001b[0m\u001b[32m \u001b[0m│\u001b[34m \u001b[0m\u001b[34m2025-07-…\u001b[0m\u001b[34m \u001b[0m│\u001b[35m \u001b[0m\u001b[35mmem0_us…\u001b[0m\u001b[35m \u001b[0m│\u001b[37m \u001b[0m\u001b[37mNone    \u001b[0m\u001b[37m \u001b[0m│ \u001b[32m│\u001b[0m\n",
       "\u001b[32m│\u001b[0m │\u001b[36m \u001b[0m\u001b[36m709bd6a2…\u001b[0m\u001b[36m \u001b[0m│\u001b[33m \u001b[0m\u001b[33mCombined monthly household income is $7,500       \u001b[0m\u001b[33m \u001b[0m│\u001b[32m \u001b[0m\u001b[32m1.87701…\u001b[0m\u001b[32m \u001b[0m│\u001b[34m \u001b[0m\u001b[34m2025-07-…\u001b[0m\u001b[34m \u001b[0m│\u001b[35m \u001b[0m\u001b[35mmem0_us…\u001b[0m\u001b[35m \u001b[0m│\u001b[37m \u001b[0m\u001b[37mNone    \u001b[0m\u001b[37m \u001b[0m│ \u001b[32m│\u001b[0m\n",
       "\u001b[32m│\u001b[0m │\u001b[36m \u001b[0m\u001b[36md3827668…\u001b[0m\u001b[36m \u001b[0m│\u001b[33m \u001b[0m\u001b[33mCharlie's monthly income is $4,500                \u001b[0m\u001b[33m \u001b[0m│\u001b[32m \u001b[0m\u001b[32m1.91328…\u001b[0m\u001b[32m \u001b[0m│\u001b[34m \u001b[0m\u001b[34m2025-07-…\u001b[0m\u001b[34m \u001b[0m│\u001b[35m \u001b[0m\u001b[35mmem0_us…\u001b[0m\u001b[35m \u001b[0m│\u001b[37m \u001b[0m\u001b[37mNone    \u001b[0m\u001b[37m \u001b[0m│ \u001b[32m│\u001b[0m\n",
       "\u001b[32m│\u001b[0m │\u001b[36m \u001b[0m\u001b[36m7ceac4dd…\u001b[0m\u001b[36m \u001b[0m│\u001b[33m \u001b[0m\u001b[33mCharlie's wife earns $3,000 per month             \u001b[0m\u001b[33m \u001b[0m│\u001b[32m \u001b[0m\u001b[32m1.97446…\u001b[0m\u001b[32m \u001b[0m│\u001b[34m \u001b[0m\u001b[34m2025-07-…\u001b[0m\u001b[34m \u001b[0m│\u001b[35m \u001b[0m\u001b[35mmem0_us…\u001b[0m\u001b[35m \u001b[0m│\u001b[37m \u001b[0m\u001b[37mNone    \u001b[0m\u001b[37m \u001b[0m│ \u001b[32m│\u001b[0m\n",
       "\u001b[32m│\u001b[0m │\u001b[36m \u001b[0m\u001b[36mf5efe5cb…\u001b[0m\u001b[36m \u001b[0m│\u001b[33m \u001b[0m\u001b[33mName is Charlie                                   \u001b[0m\u001b[33m \u001b[0m│\u001b[32m \u001b[0m\u001b[32m2.01830…\u001b[0m\u001b[32m \u001b[0m│\u001b[34m \u001b[0m\u001b[34m2025-07-…\u001b[0m\u001b[34m \u001b[0m│\u001b[35m \u001b[0m\u001b[35mmem0_us…\u001b[0m\u001b[35m \u001b[0m│\u001b[37m \u001b[0m\u001b[37mNone    \u001b[0m\u001b[37m \u001b[0m│ \u001b[32m│\u001b[0m\n",
       "\u001b[32m│\u001b[0m └───────────┴────────────────────────────────────────────────────┴──────────┴───────────┴──────────┴──────────┘ \u001b[32m│\u001b[0m\n",
       "\u001b[32m╰─────────────────────────────────────────────────────────────────────────────────────────────────────────────────╯\u001b[0m\n"
      ]
     },
     "metadata": {},
     "output_type": "display_data"
    },
    {
     "name": "stdout",
     "output_type": "stream",
     "text": [
      "Based on your preferences and the information you've shared with me, here's how I recommend allocating your $4,000 monthly salary:\n",
      "\n",
      "### Monthly Budget Breakdown\n",
      "\n",
      "**Fixed Expenses (40%)**: $1,600\n",
      "- Rent/mortgage\n",
      "- Utilities\n",
      "- Insurance\n",
      "- Phone/internet\n",
      "- Groceries\n",
      "- Other essential bills\n",
      "\n",
      "**Wants (30%)**: $1,200\n",
      "- Restaurant dining (your favorite hobby!)\n",
      "  - Look for new restaurant openings and discounts to maximize this budget\n",
      "- Entertainment\n",
      "- Shopping\n",
      "- Other discretionary spending\n",
      "\n",
      "**Savings (30%)**: $1,200\n",
      "- Emergency fund: $533 (approximately 13.3% of income)\n",
      "- South Korea trip fund: $333 (to reach your $4,000 goal over 12 months)\n",
      "- Long-term savings/investments: $334 (approximately 8.4% of income)\n",
      "\n",
      "### Special Notes\n",
      "\n",
      "1. **South Korea Trip**: You're planning to save $4,000 over 12 months for your trip to South Korea next spring. That means setting aside about $333 per month from your savings portion.\n",
      "\n",
      "2. **Restaurant Hobby**: Since you enjoy visiting new restaurants, I've kept this in mind when allocating your \"wants\" budget. Consider using apps or websites that offer restaurant deals to maximize your dining experiences within budget.\n",
      "\n",
      "3. **Budget Adjustments**: You can always fine-tune these percentages based on your priorities. For example, if you want to save more for your Korea trip, you might temporarily adjust your \"wants\" category.\n",
      "\n",
      "Would you like more specific suggestions for any of these categories, or do you need help tracking your spending to stick to this budget?"
     ]
    },
    {
     "name": "stdin",
     "output_type": "stream",
     "text": [
      "\n",
      ">  My wife's salary has changed to $4500 and we have the same financial goals. How should we spend as a family?\n"
     ]
    },
    {
     "name": "stdout",
     "output_type": "stream",
     "text": [
      "Let me update your information and provide a family budget plan based on your combined income.\n",
      "Tool #2: mem0_memory\n"
     ]
    },
    {
     "data": {
      "text/html": [
       "<pre style=\"white-space:pre;overflow-x:auto;line-height:normal;font-family:Menlo,'DejaVu Sans Mono',consolas,'Courier New',monospace\"><span style=\"color: #008000; text-decoration-color: #008000\">╭─────────────────────────────────────────── </span><span style=\"color: #008000; text-decoration-color: #008000; font-weight: bold\">Memory for user mem0_user</span><span style=\"color: #008000; text-decoration-color: #008000\"> ───────────────────────────────────────────╮</span>\n",
       "<span style=\"color: #008000; text-decoration-color: #008000\">│</span> Charlie's wife's salary is now $4500 per month.                                                                 <span style=\"color: #008000; text-decoration-color: #008000\">│</span>\n",
       "<span style=\"color: #008000; text-decoration-color: #008000\">╰─────────────────────────────────────────────────────────────────────────────────────────────────────────────────╯</span>\n",
       "</pre>\n"
      ],
      "text/plain": [
       "\u001b[32m╭─\u001b[0m\u001b[32m──────────────────────────────────────────\u001b[0m\u001b[32m \u001b[0m\u001b[1;32mMemory for user mem0_user\u001b[0m\u001b[32m \u001b[0m\u001b[32m──────────────────────────────────────────\u001b[0m\u001b[32m─╮\u001b[0m\n",
       "\u001b[32m│\u001b[0m Charlie's wife's salary is now $4500 per month.                                                                 \u001b[32m│\u001b[0m\n",
       "\u001b[32m╰─────────────────────────────────────────────────────────────────────────────────────────────────────────────────╯\u001b[0m\n"
      ]
     },
     "metadata": {},
     "output_type": "display_data"
    },
    {
     "data": {
      "text/html": [
       "<pre style=\"white-space:pre;overflow-x:auto;line-height:normal;font-family:Menlo,'DejaVu Sans Mono',consolas,'Courier New',monospace\"><span style=\"color: #008000; text-decoration-color: #008000\">╭───────────────────────────────────────────────── </span><span style=\"color: #008000; text-decoration-color: #008000; font-weight: bold\">Memory Stored</span><span style=\"color: #008000; text-decoration-color: #008000\"> ─────────────────────────────────────────────────╮</span>\n",
       "<span style=\"color: #008000; text-decoration-color: #008000\">│</span> <span style=\"font-style: italic\">                          Memory Stored                           </span>                                              <span style=\"color: #008000; text-decoration-color: #008000\">│</span>\n",
       "<span style=\"color: #008000; text-decoration-color: #008000\">│</span> ┏━━━━━━━━━━━┳━━━━━━━━━━━━━━━━━━━━━━━━━━━━━━━━━━━━━━━━━━━━━━━━━━━━┓                                              <span style=\"color: #008000; text-decoration-color: #008000\">│</span>\n",
       "<span style=\"color: #008000; text-decoration-color: #008000\">│</span> ┃<span style=\"color: #800080; text-decoration-color: #800080; font-weight: bold\"> Operation </span>┃<span style=\"color: #800080; text-decoration-color: #800080; font-weight: bold\"> Content                                            </span>┃                                              <span style=\"color: #008000; text-decoration-color: #008000\">│</span>\n",
       "<span style=\"color: #008000; text-decoration-color: #008000\">│</span> ┡━━━━━━━━━━━╇━━━━━━━━━━━━━━━━━━━━━━━━━━━━━━━━━━━━━━━━━━━━━━━━━━━━┩                                              <span style=\"color: #008000; text-decoration-color: #008000\">│</span>\n",
       "<span style=\"color: #008000; text-decoration-color: #008000\">│</span> │<span style=\"color: #008000; text-decoration-color: #008000\"> UPDATE    </span>│<span style=\"color: #808000; text-decoration-color: #808000\"> Charlie's wife earns $3,000 per month              </span>│                                              <span style=\"color: #008000; text-decoration-color: #008000\">│</span>\n",
       "<span style=\"color: #008000; text-decoration-color: #008000\">│</span> │<span style=\"color: #008000; text-decoration-color: #008000\"> UPDATE    </span>│<span style=\"color: #808000; text-decoration-color: #808000\"> Combined monthly household income is $7,500        </span>│                                              <span style=\"color: #008000; text-decoration-color: #008000\">│</span>\n",
       "<span style=\"color: #008000; text-decoration-color: #008000\">│</span> └───────────┴────────────────────────────────────────────────────┘                                              <span style=\"color: #008000; text-decoration-color: #008000\">│</span>\n",
       "<span style=\"color: #008000; text-decoration-color: #008000\">╰─────────────────────────────────────────────────────────────────────────────────────────────────────────────────╯</span>\n",
       "</pre>\n"
      ],
      "text/plain": [
       "\u001b[32m╭─\u001b[0m\u001b[32m────────────────────────────────────────────────\u001b[0m\u001b[32m \u001b[0m\u001b[1;32mMemory Stored\u001b[0m\u001b[32m \u001b[0m\u001b[32m────────────────────────────────────────────────\u001b[0m\u001b[32m─╮\u001b[0m\n",
       "\u001b[32m│\u001b[0m \u001b[3m                          Memory Stored                           \u001b[0m                                              \u001b[32m│\u001b[0m\n",
       "\u001b[32m│\u001b[0m ┏━━━━━━━━━━━┳━━━━━━━━━━━━━━━━━━━━━━━━━━━━━━━━━━━━━━━━━━━━━━━━━━━━┓                                              \u001b[32m│\u001b[0m\n",
       "\u001b[32m│\u001b[0m ┃\u001b[1;35m \u001b[0m\u001b[1;35mOperation\u001b[0m\u001b[1;35m \u001b[0m┃\u001b[1;35m \u001b[0m\u001b[1;35mContent                                           \u001b[0m\u001b[1;35m \u001b[0m┃                                              \u001b[32m│\u001b[0m\n",
       "\u001b[32m│\u001b[0m ┡━━━━━━━━━━━╇━━━━━━━━━━━━━━━━━━━━━━━━━━━━━━━━━━━━━━━━━━━━━━━━━━━━┩                                              \u001b[32m│\u001b[0m\n",
       "\u001b[32m│\u001b[0m │\u001b[32m \u001b[0m\u001b[32mUPDATE   \u001b[0m\u001b[32m \u001b[0m│\u001b[33m \u001b[0m\u001b[33mCharlie's wife earns $3,000 per month             \u001b[0m\u001b[33m \u001b[0m│                                              \u001b[32m│\u001b[0m\n",
       "\u001b[32m│\u001b[0m │\u001b[32m \u001b[0m\u001b[32mUPDATE   \u001b[0m\u001b[32m \u001b[0m│\u001b[33m \u001b[0m\u001b[33mCombined monthly household income is $7,500       \u001b[0m\u001b[33m \u001b[0m│                                              \u001b[32m│\u001b[0m\n",
       "\u001b[32m│\u001b[0m └───────────┴────────────────────────────────────────────────────┘                                              \u001b[32m│\u001b[0m\n",
       "\u001b[32m╰─────────────────────────────────────────────────────────────────────────────────────────────────────────────────╯\u001b[0m\n"
      ]
     },
     "metadata": {},
     "output_type": "display_data"
    },
    {
     "name": "stdout",
     "output_type": "stream",
     "text": [
      "\n",
      "Tool #3: mem0_memory\n"
     ]
    },
    {
     "data": {
      "text/html": [
       "<pre style=\"white-space:pre;overflow-x:auto;line-height:normal;font-family:Menlo,'DejaVu Sans Mono',consolas,'Courier New',monospace\"><span style=\"color: #008000; text-decoration-color: #008000\">╭──────────────────────────────────────────────── </span><span style=\"color: #008000; text-decoration-color: #008000; font-weight: bold\">Search Results</span><span style=\"color: #008000; text-decoration-color: #008000\"> ─────────────────────────────────────────────────╮</span>\n",
       "<span style=\"color: #008000; text-decoration-color: #008000\">│</span> <span style=\"font-style: italic\">                                                Search Results                                                 </span> <span style=\"color: #008000; text-decoration-color: #008000\">│</span>\n",
       "<span style=\"color: #008000; text-decoration-color: #008000\">│</span> ┏━━━━━━━━━━━┳━━━━━━━━━━━━━━━━━━━━━━━━━━━━━━━━━━━━━━━━━━━━━━━━━━━━┳━━━━━━━━━━┳━━━━━━━━━━━┳━━━━━━━━━━┳━━━━━━━━━━┓ <span style=\"color: #008000; text-decoration-color: #008000\">│</span>\n",
       "<span style=\"color: #008000; text-decoration-color: #008000\">│</span> ┃<span style=\"color: #800080; text-decoration-color: #800080; font-weight: bold\">           </span>┃<span style=\"color: #800080; text-decoration-color: #800080; font-weight: bold\">                                                    </span>┃<span style=\"color: #800080; text-decoration-color: #800080; font-weight: bold\">          </span>┃<span style=\"color: #800080; text-decoration-color: #800080; font-weight: bold\"> Created   </span>┃<span style=\"color: #800080; text-decoration-color: #800080; font-weight: bold\">          </span>┃<span style=\"color: #800080; text-decoration-color: #800080; font-weight: bold\">          </span>┃ <span style=\"color: #008000; text-decoration-color: #008000\">│</span>\n",
       "<span style=\"color: #008000; text-decoration-color: #008000\">│</span> ┃<span style=\"color: #800080; text-decoration-color: #800080; font-weight: bold\"> ID        </span>┃<span style=\"color: #800080; text-decoration-color: #800080; font-weight: bold\"> Memory                                             </span>┃<span style=\"color: #800080; text-decoration-color: #800080; font-weight: bold\"> Relevan… </span>┃<span style=\"color: #800080; text-decoration-color: #800080; font-weight: bold\"> At        </span>┃<span style=\"color: #800080; text-decoration-color: #800080; font-weight: bold\"> User ID  </span>┃<span style=\"color: #800080; text-decoration-color: #800080; font-weight: bold\"> Metadata </span>┃ <span style=\"color: #008000; text-decoration-color: #008000\">│</span>\n",
       "<span style=\"color: #008000; text-decoration-color: #008000\">│</span> ┡━━━━━━━━━━━╇━━━━━━━━━━━━━━━━━━━━━━━━━━━━━━━━━━━━━━━━━━━━━━━━━━━━╇━━━━━━━━━━╇━━━━━━━━━━━╇━━━━━━━━━━╇━━━━━━━━━━┩ <span style=\"color: #008000; text-decoration-color: #008000\">│</span>\n",
       "<span style=\"color: #008000; text-decoration-color: #008000\">│</span> │<span style=\"color: #008080; text-decoration-color: #008080\"> 9d85df75… </span>│<span style=\"color: #808000; text-decoration-color: #808000\"> Prefers monthly budget allocation: 40% for fixed   </span>│<span style=\"color: #008000; text-decoration-color: #008000\"> 0.92599… </span>│<span style=\"color: #000080; text-decoration-color: #000080\"> 2025-07-… </span>│<span style=\"color: #800080; text-decoration-color: #800080\"> mem0_us… </span>│<span style=\"color: #c0c0c0; text-decoration-color: #c0c0c0\"> None     </span>│ <span style=\"color: #008000; text-decoration-color: #008000\">│</span>\n",
       "<span style=\"color: #008000; text-decoration-color: #008000\">│</span> │<span style=\"color: #008080; text-decoration-color: #008080\">           </span>│<span style=\"color: #808000; text-decoration-color: #808000\"> expenses, 30% for wants, 30% for savings           </span>│<span style=\"color: #008000; text-decoration-color: #008000\">          </span>│<span style=\"color: #000080; text-decoration-color: #000080\">           </span>│<span style=\"color: #800080; text-decoration-color: #800080\">          </span>│<span style=\"color: #c0c0c0; text-decoration-color: #c0c0c0\">          </span>│ <span style=\"color: #008000; text-decoration-color: #008000\">│</span>\n",
       "<span style=\"color: #008000; text-decoration-color: #008000\">│</span> │<span style=\"color: #008080; text-decoration-color: #008080\"> 7ceac4dd… </span>│<span style=\"color: #808000; text-decoration-color: #808000\"> Charlie's wife earns $3,000 per month              </span>│<span style=\"color: #008000; text-decoration-color: #008000\"> 1.36766… </span>│<span style=\"color: #000080; text-decoration-color: #000080\"> 2025-07-… </span>│<span style=\"color: #800080; text-decoration-color: #800080\"> mem0_us… </span>│<span style=\"color: #c0c0c0; text-decoration-color: #c0c0c0\"> None     </span>│ <span style=\"color: #008000; text-decoration-color: #008000\">│</span>\n",
       "<span style=\"color: #008000; text-decoration-color: #008000\">│</span> │<span style=\"color: #008080; text-decoration-color: #008080\"> 0cf9ac25… </span>│<span style=\"color: #808000; text-decoration-color: #808000\"> Wants to save $4000 over 12 months for vacation    </span>│<span style=\"color: #008000; text-decoration-color: #008000\"> 1.38743… </span>│<span style=\"color: #000080; text-decoration-color: #000080\"> 2025-07-… </span>│<span style=\"color: #800080; text-decoration-color: #800080\"> mem0_us… </span>│<span style=\"color: #c0c0c0; text-decoration-color: #c0c0c0\"> None     </span>│ <span style=\"color: #008000; text-decoration-color: #008000\">│</span>\n",
       "<span style=\"color: #008000; text-decoration-color: #008000\">│</span> │<span style=\"color: #008080; text-decoration-color: #008080\">           </span>│<span style=\"color: #808000; text-decoration-color: #808000\"> budget                                             </span>│<span style=\"color: #008000; text-decoration-color: #008000\">          </span>│<span style=\"color: #000080; text-decoration-color: #000080\">           </span>│<span style=\"color: #800080; text-decoration-color: #800080\">          </span>│<span style=\"color: #c0c0c0; text-decoration-color: #c0c0c0\">          </span>│ <span style=\"color: #008000; text-decoration-color: #008000\">│</span>\n",
       "<span style=\"color: #008000; text-decoration-color: #008000\">│</span> │<span style=\"color: #008080; text-decoration-color: #008080\"> d5c5885a… </span>│<span style=\"color: #808000; text-decoration-color: #808000\"> Interested in finding new restaurant openings to   </span>│<span style=\"color: #008000; text-decoration-color: #008000\"> 1.69064… </span>│<span style=\"color: #000080; text-decoration-color: #000080\"> 2025-07-… </span>│<span style=\"color: #800080; text-decoration-color: #800080\"> mem0_us… </span>│<span style=\"color: #c0c0c0; text-decoration-color: #c0c0c0\"> None     </span>│ <span style=\"color: #008000; text-decoration-color: #008000\">│</span>\n",
       "<span style=\"color: #008000; text-decoration-color: #008000\">│</span> │<span style=\"color: #008080; text-decoration-color: #008080\">           </span>│<span style=\"color: #808000; text-decoration-color: #808000\"> maximize dining within budget                      </span>│<span style=\"color: #008000; text-decoration-color: #008000\">          </span>│<span style=\"color: #000080; text-decoration-color: #000080\">           </span>│<span style=\"color: #800080; text-decoration-color: #800080\">          </span>│<span style=\"color: #c0c0c0; text-decoration-color: #c0c0c0\">          </span>│ <span style=\"color: #008000; text-decoration-color: #008000\">│</span>\n",
       "<span style=\"color: #008000; text-decoration-color: #008000\">│</span> │<span style=\"color: #008080; text-decoration-color: #008080\"> 2a6bf24f… </span>│<span style=\"color: #808000; text-decoration-color: #808000\"> Favourite hobbies are visiting new restaurants and </span>│<span style=\"color: #008000; text-decoration-color: #008000\"> 1.72224… </span>│<span style=\"color: #000080; text-decoration-color: #000080\"> 2025-07-… </span>│<span style=\"color: #800080; text-decoration-color: #800080\"> mem0_us… </span>│<span style=\"color: #c0c0c0; text-decoration-color: #c0c0c0\"> None     </span>│ <span style=\"color: #008000; text-decoration-color: #008000\">│</span>\n",
       "<span style=\"color: #008000; text-decoration-color: #008000\">│</span> │<span style=\"color: #008080; text-decoration-color: #008080\">           </span>│<span style=\"color: #808000; text-decoration-color: #808000\"> looking for discounts                              </span>│<span style=\"color: #008000; text-decoration-color: #008000\">          </span>│<span style=\"color: #000080; text-decoration-color: #000080\">           </span>│<span style=\"color: #800080; text-decoration-color: #800080\">          </span>│<span style=\"color: #c0c0c0; text-decoration-color: #c0c0c0\">          </span>│ <span style=\"color: #008000; text-decoration-color: #008000\">│</span>\n",
       "<span style=\"color: #008000; text-decoration-color: #008000\">│</span> │<span style=\"color: #008080; text-decoration-color: #008080\"> 709bd6a2… </span>│<span style=\"color: #808000; text-decoration-color: #808000\"> Combined monthly household income is $7,500        </span>│<span style=\"color: #008000; text-decoration-color: #008000\"> 1.77022… </span>│<span style=\"color: #000080; text-decoration-color: #000080\"> 2025-07-… </span>│<span style=\"color: #800080; text-decoration-color: #800080\"> mem0_us… </span>│<span style=\"color: #c0c0c0; text-decoration-color: #c0c0c0\"> None     </span>│ <span style=\"color: #008000; text-decoration-color: #008000\">│</span>\n",
       "<span style=\"color: #008000; text-decoration-color: #008000\">│</span> │<span style=\"color: #008080; text-decoration-color: #008080\"> 77eaf690… </span>│<span style=\"color: #808000; text-decoration-color: #808000\"> Planning a trip to South Korea next spring         </span>│<span style=\"color: #008000; text-decoration-color: #008000\"> 1.91677… </span>│<span style=\"color: #000080; text-decoration-color: #000080\"> 2025-07-… </span>│<span style=\"color: #800080; text-decoration-color: #800080\"> mem0_us… </span>│<span style=\"color: #c0c0c0; text-decoration-color: #c0c0c0\"> None     </span>│ <span style=\"color: #008000; text-decoration-color: #008000\">│</span>\n",
       "<span style=\"color: #008000; text-decoration-color: #008000\">│</span> │<span style=\"color: #008080; text-decoration-color: #008080\"> f5efe5cb… </span>│<span style=\"color: #808000; text-decoration-color: #808000\"> Name is Charlie                                    </span>│<span style=\"color: #008000; text-decoration-color: #008000\"> 2.02432… </span>│<span style=\"color: #000080; text-decoration-color: #000080\"> 2025-07-… </span>│<span style=\"color: #800080; text-decoration-color: #800080\"> mem0_us… </span>│<span style=\"color: #c0c0c0; text-decoration-color: #c0c0c0\"> None     </span>│ <span style=\"color: #008000; text-decoration-color: #008000\">│</span>\n",
       "<span style=\"color: #008000; text-decoration-color: #008000\">│</span> └───────────┴────────────────────────────────────────────────────┴──────────┴───────────┴──────────┴──────────┘ <span style=\"color: #008000; text-decoration-color: #008000\">│</span>\n",
       "<span style=\"color: #008000; text-decoration-color: #008000\">╰─────────────────────────────────────────────────────────────────────────────────────────────────────────────────╯</span>\n",
       "</pre>\n"
      ],
      "text/plain": [
       "\u001b[32m╭─\u001b[0m\u001b[32m───────────────────────────────────────────────\u001b[0m\u001b[32m \u001b[0m\u001b[1;32mSearch Results\u001b[0m\u001b[32m \u001b[0m\u001b[32m────────────────────────────────────────────────\u001b[0m\u001b[32m─╮\u001b[0m\n",
       "\u001b[32m│\u001b[0m \u001b[3m                                                Search Results                                                 \u001b[0m \u001b[32m│\u001b[0m\n",
       "\u001b[32m│\u001b[0m ┏━━━━━━━━━━━┳━━━━━━━━━━━━━━━━━━━━━━━━━━━━━━━━━━━━━━━━━━━━━━━━━━━━┳━━━━━━━━━━┳━━━━━━━━━━━┳━━━━━━━━━━┳━━━━━━━━━━┓ \u001b[32m│\u001b[0m\n",
       "\u001b[32m│\u001b[0m ┃\u001b[1;35m           \u001b[0m┃\u001b[1;35m                                                    \u001b[0m┃\u001b[1;35m          \u001b[0m┃\u001b[1;35m \u001b[0m\u001b[1;35mCreated  \u001b[0m\u001b[1;35m \u001b[0m┃\u001b[1;35m          \u001b[0m┃\u001b[1;35m          \u001b[0m┃ \u001b[32m│\u001b[0m\n",
       "\u001b[32m│\u001b[0m ┃\u001b[1;35m \u001b[0m\u001b[1;35mID       \u001b[0m\u001b[1;35m \u001b[0m┃\u001b[1;35m \u001b[0m\u001b[1;35mMemory                                            \u001b[0m\u001b[1;35m \u001b[0m┃\u001b[1;35m \u001b[0m\u001b[1;35mRelevan…\u001b[0m\u001b[1;35m \u001b[0m┃\u001b[1;35m \u001b[0m\u001b[1;35mAt       \u001b[0m\u001b[1;35m \u001b[0m┃\u001b[1;35m \u001b[0m\u001b[1;35mUser ID \u001b[0m\u001b[1;35m \u001b[0m┃\u001b[1;35m \u001b[0m\u001b[1;35mMetadata\u001b[0m\u001b[1;35m \u001b[0m┃ \u001b[32m│\u001b[0m\n",
       "\u001b[32m│\u001b[0m ┡━━━━━━━━━━━╇━━━━━━━━━━━━━━━━━━━━━━━━━━━━━━━━━━━━━━━━━━━━━━━━━━━━╇━━━━━━━━━━╇━━━━━━━━━━━╇━━━━━━━━━━╇━━━━━━━━━━┩ \u001b[32m│\u001b[0m\n",
       "\u001b[32m│\u001b[0m │\u001b[36m \u001b[0m\u001b[36m9d85df75…\u001b[0m\u001b[36m \u001b[0m│\u001b[33m \u001b[0m\u001b[33mPrefers monthly budget allocation: 40% for fixed  \u001b[0m\u001b[33m \u001b[0m│\u001b[32m \u001b[0m\u001b[32m0.92599…\u001b[0m\u001b[32m \u001b[0m│\u001b[34m \u001b[0m\u001b[34m2025-07-…\u001b[0m\u001b[34m \u001b[0m│\u001b[35m \u001b[0m\u001b[35mmem0_us…\u001b[0m\u001b[35m \u001b[0m│\u001b[37m \u001b[0m\u001b[37mNone    \u001b[0m\u001b[37m \u001b[0m│ \u001b[32m│\u001b[0m\n",
       "\u001b[32m│\u001b[0m │\u001b[36m           \u001b[0m│\u001b[33m \u001b[0m\u001b[33mexpenses, 30% for wants, 30% for savings          \u001b[0m\u001b[33m \u001b[0m│\u001b[32m          \u001b[0m│\u001b[34m           \u001b[0m│\u001b[35m          \u001b[0m│\u001b[37m          \u001b[0m│ \u001b[32m│\u001b[0m\n",
       "\u001b[32m│\u001b[0m │\u001b[36m \u001b[0m\u001b[36m7ceac4dd…\u001b[0m\u001b[36m \u001b[0m│\u001b[33m \u001b[0m\u001b[33mCharlie's wife earns $3,000 per month             \u001b[0m\u001b[33m \u001b[0m│\u001b[32m \u001b[0m\u001b[32m1.36766…\u001b[0m\u001b[32m \u001b[0m│\u001b[34m \u001b[0m\u001b[34m2025-07-…\u001b[0m\u001b[34m \u001b[0m│\u001b[35m \u001b[0m\u001b[35mmem0_us…\u001b[0m\u001b[35m \u001b[0m│\u001b[37m \u001b[0m\u001b[37mNone    \u001b[0m\u001b[37m \u001b[0m│ \u001b[32m│\u001b[0m\n",
       "\u001b[32m│\u001b[0m │\u001b[36m \u001b[0m\u001b[36m0cf9ac25…\u001b[0m\u001b[36m \u001b[0m│\u001b[33m \u001b[0m\u001b[33mWants to save $4000 over 12 months for vacation   \u001b[0m\u001b[33m \u001b[0m│\u001b[32m \u001b[0m\u001b[32m1.38743…\u001b[0m\u001b[32m \u001b[0m│\u001b[34m \u001b[0m\u001b[34m2025-07-…\u001b[0m\u001b[34m \u001b[0m│\u001b[35m \u001b[0m\u001b[35mmem0_us…\u001b[0m\u001b[35m \u001b[0m│\u001b[37m \u001b[0m\u001b[37mNone    \u001b[0m\u001b[37m \u001b[0m│ \u001b[32m│\u001b[0m\n",
       "\u001b[32m│\u001b[0m │\u001b[36m           \u001b[0m│\u001b[33m \u001b[0m\u001b[33mbudget                                            \u001b[0m\u001b[33m \u001b[0m│\u001b[32m          \u001b[0m│\u001b[34m           \u001b[0m│\u001b[35m          \u001b[0m│\u001b[37m          \u001b[0m│ \u001b[32m│\u001b[0m\n",
       "\u001b[32m│\u001b[0m │\u001b[36m \u001b[0m\u001b[36md5c5885a…\u001b[0m\u001b[36m \u001b[0m│\u001b[33m \u001b[0m\u001b[33mInterested in finding new restaurant openings to  \u001b[0m\u001b[33m \u001b[0m│\u001b[32m \u001b[0m\u001b[32m1.69064…\u001b[0m\u001b[32m \u001b[0m│\u001b[34m \u001b[0m\u001b[34m2025-07-…\u001b[0m\u001b[34m \u001b[0m│\u001b[35m \u001b[0m\u001b[35mmem0_us…\u001b[0m\u001b[35m \u001b[0m│\u001b[37m \u001b[0m\u001b[37mNone    \u001b[0m\u001b[37m \u001b[0m│ \u001b[32m│\u001b[0m\n",
       "\u001b[32m│\u001b[0m │\u001b[36m           \u001b[0m│\u001b[33m \u001b[0m\u001b[33mmaximize dining within budget                     \u001b[0m\u001b[33m \u001b[0m│\u001b[32m          \u001b[0m│\u001b[34m           \u001b[0m│\u001b[35m          \u001b[0m│\u001b[37m          \u001b[0m│ \u001b[32m│\u001b[0m\n",
       "\u001b[32m│\u001b[0m │\u001b[36m \u001b[0m\u001b[36m2a6bf24f…\u001b[0m\u001b[36m \u001b[0m│\u001b[33m \u001b[0m\u001b[33mFavourite hobbies are visiting new restaurants and\u001b[0m\u001b[33m \u001b[0m│\u001b[32m \u001b[0m\u001b[32m1.72224…\u001b[0m\u001b[32m \u001b[0m│\u001b[34m \u001b[0m\u001b[34m2025-07-…\u001b[0m\u001b[34m \u001b[0m│\u001b[35m \u001b[0m\u001b[35mmem0_us…\u001b[0m\u001b[35m \u001b[0m│\u001b[37m \u001b[0m\u001b[37mNone    \u001b[0m\u001b[37m \u001b[0m│ \u001b[32m│\u001b[0m\n",
       "\u001b[32m│\u001b[0m │\u001b[36m           \u001b[0m│\u001b[33m \u001b[0m\u001b[33mlooking for discounts                             \u001b[0m\u001b[33m \u001b[0m│\u001b[32m          \u001b[0m│\u001b[34m           \u001b[0m│\u001b[35m          \u001b[0m│\u001b[37m          \u001b[0m│ \u001b[32m│\u001b[0m\n",
       "\u001b[32m│\u001b[0m │\u001b[36m \u001b[0m\u001b[36m709bd6a2…\u001b[0m\u001b[36m \u001b[0m│\u001b[33m \u001b[0m\u001b[33mCombined monthly household income is $7,500       \u001b[0m\u001b[33m \u001b[0m│\u001b[32m \u001b[0m\u001b[32m1.77022…\u001b[0m\u001b[32m \u001b[0m│\u001b[34m \u001b[0m\u001b[34m2025-07-…\u001b[0m\u001b[34m \u001b[0m│\u001b[35m \u001b[0m\u001b[35mmem0_us…\u001b[0m\u001b[35m \u001b[0m│\u001b[37m \u001b[0m\u001b[37mNone    \u001b[0m\u001b[37m \u001b[0m│ \u001b[32m│\u001b[0m\n",
       "\u001b[32m│\u001b[0m │\u001b[36m \u001b[0m\u001b[36m77eaf690…\u001b[0m\u001b[36m \u001b[0m│\u001b[33m \u001b[0m\u001b[33mPlanning a trip to South Korea next spring        \u001b[0m\u001b[33m \u001b[0m│\u001b[32m \u001b[0m\u001b[32m1.91677…\u001b[0m\u001b[32m \u001b[0m│\u001b[34m \u001b[0m\u001b[34m2025-07-…\u001b[0m\u001b[34m \u001b[0m│\u001b[35m \u001b[0m\u001b[35mmem0_us…\u001b[0m\u001b[35m \u001b[0m│\u001b[37m \u001b[0m\u001b[37mNone    \u001b[0m\u001b[37m \u001b[0m│ \u001b[32m│\u001b[0m\n",
       "\u001b[32m│\u001b[0m │\u001b[36m \u001b[0m\u001b[36mf5efe5cb…\u001b[0m\u001b[36m \u001b[0m│\u001b[33m \u001b[0m\u001b[33mName is Charlie                                   \u001b[0m\u001b[33m \u001b[0m│\u001b[32m \u001b[0m\u001b[32m2.02432…\u001b[0m\u001b[32m \u001b[0m│\u001b[34m \u001b[0m\u001b[34m2025-07-…\u001b[0m\u001b[34m \u001b[0m│\u001b[35m \u001b[0m\u001b[35mmem0_us…\u001b[0m\u001b[35m \u001b[0m│\u001b[37m \u001b[0m\u001b[37mNone    \u001b[0m\u001b[37m \u001b[0m│ \u001b[32m│\u001b[0m\n",
       "\u001b[32m│\u001b[0m └───────────┴────────────────────────────────────────────────────┴──────────┴───────────┴──────────┴──────────┘ \u001b[32m│\u001b[0m\n",
       "\u001b[32m╰─────────────────────────────────────────────────────────────────────────────────────────────────────────────────╯\u001b[0m\n"
      ]
     },
     "metadata": {},
     "output_type": "display_data"
    },
    {
     "name": "stdout",
     "output_type": "stream",
     "text": [
      "I notice there's some conflicting information in your records. Let me update your family income information to be accurate.\n",
      "Tool #4: mem0_memory\n"
     ]
    },
    {
     "data": {
      "text/html": [
       "<pre style=\"white-space:pre;overflow-x:auto;line-height:normal;font-family:Menlo,'DejaVu Sans Mono',consolas,'Courier New',monospace\"><span style=\"color: #008000; text-decoration-color: #008000\">╭─────────────────────────────────────────── </span><span style=\"color: #008000; text-decoration-color: #008000; font-weight: bold\">Memory for user mem0_user</span><span style=\"color: #008000; text-decoration-color: #008000\"> ───────────────────────────────────────────╮</span>\n",
       "<span style=\"color: #008000; text-decoration-color: #008000\">│</span> Charlie's wife's salary is now $4500 per month. Charlie's salary is $4000 per month. Combined monthly household <span style=\"color: #008000; text-decoration-color: #008000\">│</span>\n",
       "<span style=\"color: #008000; text-decoration-color: #008000\">│</span> income is $8500.                                                                                                <span style=\"color: #008000; text-decoration-color: #008000\">│</span>\n",
       "<span style=\"color: #008000; text-decoration-color: #008000\">╰─────────────────────────────────────────────────────────────────────────────────────────────────────────────────╯</span>\n",
       "</pre>\n"
      ],
      "text/plain": [
       "\u001b[32m╭─\u001b[0m\u001b[32m──────────────────────────────────────────\u001b[0m\u001b[32m \u001b[0m\u001b[1;32mMemory for user mem0_user\u001b[0m\u001b[32m \u001b[0m\u001b[32m──────────────────────────────────────────\u001b[0m\u001b[32m─╮\u001b[0m\n",
       "\u001b[32m│\u001b[0m Charlie's wife's salary is now $4500 per month. Charlie's salary is $4000 per month. Combined monthly household \u001b[32m│\u001b[0m\n",
       "\u001b[32m│\u001b[0m income is $8500.                                                                                                \u001b[32m│\u001b[0m\n",
       "\u001b[32m╰─────────────────────────────────────────────────────────────────────────────────────────────────────────────────╯\u001b[0m\n"
      ]
     },
     "metadata": {},
     "output_type": "display_data"
    },
    {
     "data": {
      "text/html": [
       "<pre style=\"white-space:pre;overflow-x:auto;line-height:normal;font-family:Menlo,'DejaVu Sans Mono',consolas,'Courier New',monospace\"><span style=\"color: #008000; text-decoration-color: #008000\">╭───────────────────────────────────────────────── </span><span style=\"color: #008000; text-decoration-color: #008000; font-weight: bold\">Memory Stored</span><span style=\"color: #008000; text-decoration-color: #008000\"> ─────────────────────────────────────────────────╮</span>\n",
       "<span style=\"color: #008000; text-decoration-color: #008000\">│</span> <span style=\"font-style: italic\">                          Memory Stored                           </span>                                              <span style=\"color: #008000; text-decoration-color: #008000\">│</span>\n",
       "<span style=\"color: #008000; text-decoration-color: #008000\">│</span> ┏━━━━━━━━━━━┳━━━━━━━━━━━━━━━━━━━━━━━━━━━━━━━━━━━━━━━━━━━━━━━━━━━━┓                                              <span style=\"color: #008000; text-decoration-color: #008000\">│</span>\n",
       "<span style=\"color: #008000; text-decoration-color: #008000\">│</span> ┃<span style=\"color: #800080; text-decoration-color: #800080; font-weight: bold\"> Operation </span>┃<span style=\"color: #800080; text-decoration-color: #800080; font-weight: bold\"> Content                                            </span>┃                                              <span style=\"color: #008000; text-decoration-color: #008000\">│</span>\n",
       "<span style=\"color: #008000; text-decoration-color: #008000\">│</span> ┡━━━━━━━━━━━╇━━━━━━━━━━━━━━━━━━━━━━━━━━━━━━━━━━━━━━━━━━━━━━━━━━━━┩                                              <span style=\"color: #008000; text-decoration-color: #008000\">│</span>\n",
       "<span style=\"color: #008000; text-decoration-color: #008000\">│</span> │<span style=\"color: #008000; text-decoration-color: #008000\"> UPDATE    </span>│<span style=\"color: #808000; text-decoration-color: #808000\"> Combined monthly household income is $8500         </span>│                                              <span style=\"color: #008000; text-decoration-color: #008000\">│</span>\n",
       "<span style=\"color: #008000; text-decoration-color: #008000\">│</span> │<span style=\"color: #008000; text-decoration-color: #008000\"> UPDATE    </span>│<span style=\"color: #808000; text-decoration-color: #808000\"> Charlie's wife earns $4500 per month               </span>│                                              <span style=\"color: #008000; text-decoration-color: #008000\">│</span>\n",
       "<span style=\"color: #008000; text-decoration-color: #008000\">│</span> │<span style=\"color: #008000; text-decoration-color: #008000\"> ADD       </span>│<span style=\"color: #808000; text-decoration-color: #808000\"> Charlie's salary is $4000 per month                </span>│                                              <span style=\"color: #008000; text-decoration-color: #008000\">│</span>\n",
       "<span style=\"color: #008000; text-decoration-color: #008000\">│</span> └───────────┴────────────────────────────────────────────────────┘                                              <span style=\"color: #008000; text-decoration-color: #008000\">│</span>\n",
       "<span style=\"color: #008000; text-decoration-color: #008000\">╰─────────────────────────────────────────────────────────────────────────────────────────────────────────────────╯</span>\n",
       "</pre>\n"
      ],
      "text/plain": [
       "\u001b[32m╭─\u001b[0m\u001b[32m────────────────────────────────────────────────\u001b[0m\u001b[32m \u001b[0m\u001b[1;32mMemory Stored\u001b[0m\u001b[32m \u001b[0m\u001b[32m────────────────────────────────────────────────\u001b[0m\u001b[32m─╮\u001b[0m\n",
       "\u001b[32m│\u001b[0m \u001b[3m                          Memory Stored                           \u001b[0m                                              \u001b[32m│\u001b[0m\n",
       "\u001b[32m│\u001b[0m ┏━━━━━━━━━━━┳━━━━━━━━━━━━━━━━━━━━━━━━━━━━━━━━━━━━━━━━━━━━━━━━━━━━┓                                              \u001b[32m│\u001b[0m\n",
       "\u001b[32m│\u001b[0m ┃\u001b[1;35m \u001b[0m\u001b[1;35mOperation\u001b[0m\u001b[1;35m \u001b[0m┃\u001b[1;35m \u001b[0m\u001b[1;35mContent                                           \u001b[0m\u001b[1;35m \u001b[0m┃                                              \u001b[32m│\u001b[0m\n",
       "\u001b[32m│\u001b[0m ┡━━━━━━━━━━━╇━━━━━━━━━━━━━━━━━━━━━━━━━━━━━━━━━━━━━━━━━━━━━━━━━━━━┩                                              \u001b[32m│\u001b[0m\n",
       "\u001b[32m│\u001b[0m │\u001b[32m \u001b[0m\u001b[32mUPDATE   \u001b[0m\u001b[32m \u001b[0m│\u001b[33m \u001b[0m\u001b[33mCombined monthly household income is $8500        \u001b[0m\u001b[33m \u001b[0m│                                              \u001b[32m│\u001b[0m\n",
       "\u001b[32m│\u001b[0m │\u001b[32m \u001b[0m\u001b[32mUPDATE   \u001b[0m\u001b[32m \u001b[0m│\u001b[33m \u001b[0m\u001b[33mCharlie's wife earns $4500 per month              \u001b[0m\u001b[33m \u001b[0m│                                              \u001b[32m│\u001b[0m\n",
       "\u001b[32m│\u001b[0m │\u001b[32m \u001b[0m\u001b[32mADD      \u001b[0m\u001b[32m \u001b[0m│\u001b[33m \u001b[0m\u001b[33mCharlie's salary is $4000 per month               \u001b[0m\u001b[33m \u001b[0m│                                              \u001b[32m│\u001b[0m\n",
       "\u001b[32m│\u001b[0m └───────────┴────────────────────────────────────────────────────┘                                              \u001b[32m│\u001b[0m\n",
       "\u001b[32m╰─────────────────────────────────────────────────────────────────────────────────────────────────────────────────╯\u001b[0m\n"
      ]
     },
     "metadata": {},
     "output_type": "display_data"
    },
    {
     "name": "stdout",
     "output_type": "stream",
     "text": [
      "Based on your updated information and shared financial goals, here's how your family can manage your combined monthly income of $8,500:\n",
      "\n",
      "### Family Budget Plan\n",
      "\n",
      "**Combined Monthly Income: $8,500** (Your salary: $4,000 + Your wife's salary: $4,500)\n",
      "\n",
      "#### 1. Fixed Expenses (40%): $3,400\n",
      "- Mortgage/rent\n",
      "- Utilities (electricity, water, gas, internet)\n",
      "- Groceries\n",
      "- Insurance (health, home, auto)\n",
      "- Phone plans\n",
      "- Childcare (if applicable)\n",
      "- Car payments/transportation costs\n",
      "- Loan payments\n",
      "\n",
      "#### 2. Wants (30%): $2,550\n",
      "- Restaurant dining (your favorite hobby!)\n",
      "  - Look for new restaurant openings and discount opportunities\n",
      "- Entertainment and subscriptions\n",
      "- Shopping (clothes, electronics, etc.)\n",
      "- Home decor and improvements\n",
      "- Personal care\n",
      "- Date nights and family outings\n",
      "\n",
      "#### 3. Savings (30%): $2,550\n",
      "- Emergency fund: $1,050 (approximately 12.4% of combined income)\n",
      "- South Korea trip fund: $333 (to reach your $4,000 goal over 12 months)\n",
      "- Retirement contributions: $850 (10% of combined income)\n",
      "- Other long-term goals: $317 (additional investments, future major purchases)\n",
      "\n",
      "### Special Considerations:\n",
      "\n",
      "1. **Joint vs. Individual Accounts**: Consider maintaining both joint accounts for shared expenses and individual accounts for personal spending.\n",
      "\n",
      "2. **South Korea Trip**: With your higher combined income, you could either:\n",
      "   - Keep the same $4,000 target and reach it more comfortably\n",
      "   - Increase your vacation budget for a more premium experience\n",
      "   - Accelerate your savings to reach your goal sooner\n",
      "\n",
      "3. **Restaurant Hobby**: With more discretionary income, you can expand your restaurant exploration while still staying within budget.\n",
      "\n",
      "4. **Proportional Contributions**: Since your incomes are different, you might consider contributing proportionally to joint expenses (47% from you, 53% from your wife).\n",
      "\n",
      "Would you like me to provide more specific advice on any particular aspect of this family budget? Or would you like suggestions on how to track your spending as a couple?"
     ]
    },
    {
     "name": "stdin",
     "output_type": "stream",
     "text": [
      "\n",
      ">  Let's keep the same vacation target budget\n"
     ]
    },
    {
     "name": "stdout",
     "output_type": "stream",
     "text": [
      "\n",
      "Tool #5: mem0_memory\n"
     ]
    },
    {
     "data": {
      "text/html": [
       "<pre style=\"white-space:pre;overflow-x:auto;line-height:normal;font-family:Menlo,'DejaVu Sans Mono',consolas,'Courier New',monospace\"><span style=\"color: #008000; text-decoration-color: #008000\">╭─────────────────────────────────────────── </span><span style=\"color: #008000; text-decoration-color: #008000; font-weight: bold\">Memory for user mem0_user</span><span style=\"color: #008000; text-decoration-color: #008000\"> ───────────────────────────────────────────╮</span>\n",
       "<span style=\"color: #008000; text-decoration-color: #008000\">│</span> Charlie and his wife want to keep the same $4000 vacation target budget for their South Korea trip next spring. <span style=\"color: #008000; text-decoration-color: #008000\">│</span>\n",
       "<span style=\"color: #008000; text-decoration-color: #008000\">╰─────────────────────────────────────────────────────────────────────────────────────────────────────────────────╯</span>\n",
       "</pre>\n"
      ],
      "text/plain": [
       "\u001b[32m╭─\u001b[0m\u001b[32m──────────────────────────────────────────\u001b[0m\u001b[32m \u001b[0m\u001b[1;32mMemory for user mem0_user\u001b[0m\u001b[32m \u001b[0m\u001b[32m──────────────────────────────────────────\u001b[0m\u001b[32m─╮\u001b[0m\n",
       "\u001b[32m│\u001b[0m Charlie and his wife want to keep the same $4000 vacation target budget for their South Korea trip next spring. \u001b[32m│\u001b[0m\n",
       "\u001b[32m╰─────────────────────────────────────────────────────────────────────────────────────────────────────────────────╯\u001b[0m\n"
      ]
     },
     "metadata": {},
     "output_type": "display_data"
    },
    {
     "data": {
      "text/html": [
       "<pre style=\"white-space:pre;overflow-x:auto;line-height:normal;font-family:Menlo,'DejaVu Sans Mono',consolas,'Courier New',monospace\"><span style=\"color: #008000; text-decoration-color: #008000\">╭───────────────────────────────────────────────── </span><span style=\"color: #008000; text-decoration-color: #008000; font-weight: bold\">Memory Stored</span><span style=\"color: #008000; text-decoration-color: #008000\"> ─────────────────────────────────────────────────╮</span>\n",
       "<span style=\"color: #008000; text-decoration-color: #008000\">│</span> <span style=\"font-style: italic\">                          Memory Stored                           </span>                                              <span style=\"color: #008000; text-decoration-color: #008000\">│</span>\n",
       "<span style=\"color: #008000; text-decoration-color: #008000\">│</span> ┏━━━━━━━━━━━┳━━━━━━━━━━━━━━━━━━━━━━━━━━━━━━━━━━━━━━━━━━━━━━━━━━━━┓                                              <span style=\"color: #008000; text-decoration-color: #008000\">│</span>\n",
       "<span style=\"color: #008000; text-decoration-color: #008000\">│</span> ┃<span style=\"color: #800080; text-decoration-color: #800080; font-weight: bold\"> Operation </span>┃<span style=\"color: #800080; text-decoration-color: #800080; font-weight: bold\"> Content                                            </span>┃                                              <span style=\"color: #008000; text-decoration-color: #008000\">│</span>\n",
       "<span style=\"color: #008000; text-decoration-color: #008000\">│</span> ┡━━━━━━━━━━━╇━━━━━━━━━━━━━━━━━━━━━━━━━━━━━━━━━━━━━━━━━━━━━━━━━━━━┩                                              <span style=\"color: #008000; text-decoration-color: #008000\">│</span>\n",
       "<span style=\"color: #008000; text-decoration-color: #008000\">│</span> │<span style=\"color: #008000; text-decoration-color: #008000\"> UPDATE    </span>│<span style=\"color: #808000; text-decoration-color: #808000\"> Planning a trip to South Korea next spring         </span>│                                              <span style=\"color: #008000; text-decoration-color: #008000\">│</span>\n",
       "<span style=\"color: #008000; text-decoration-color: #008000\">│</span> └───────────┴────────────────────────────────────────────────────┘                                              <span style=\"color: #008000; text-decoration-color: #008000\">│</span>\n",
       "<span style=\"color: #008000; text-decoration-color: #008000\">╰─────────────────────────────────────────────────────────────────────────────────────────────────────────────────╯</span>\n",
       "</pre>\n"
      ],
      "text/plain": [
       "\u001b[32m╭─\u001b[0m\u001b[32m────────────────────────────────────────────────\u001b[0m\u001b[32m \u001b[0m\u001b[1;32mMemory Stored\u001b[0m\u001b[32m \u001b[0m\u001b[32m────────────────────────────────────────────────\u001b[0m\u001b[32m─╮\u001b[0m\n",
       "\u001b[32m│\u001b[0m \u001b[3m                          Memory Stored                           \u001b[0m                                              \u001b[32m│\u001b[0m\n",
       "\u001b[32m│\u001b[0m ┏━━━━━━━━━━━┳━━━━━━━━━━━━━━━━━━━━━━━━━━━━━━━━━━━━━━━━━━━━━━━━━━━━┓                                              \u001b[32m│\u001b[0m\n",
       "\u001b[32m│\u001b[0m ┃\u001b[1;35m \u001b[0m\u001b[1;35mOperation\u001b[0m\u001b[1;35m \u001b[0m┃\u001b[1;35m \u001b[0m\u001b[1;35mContent                                           \u001b[0m\u001b[1;35m \u001b[0m┃                                              \u001b[32m│\u001b[0m\n",
       "\u001b[32m│\u001b[0m ┡━━━━━━━━━━━╇━━━━━━━━━━━━━━━━━━━━━━━━━━━━━━━━━━━━━━━━━━━━━━━━━━━━┩                                              \u001b[32m│\u001b[0m\n",
       "\u001b[32m│\u001b[0m │\u001b[32m \u001b[0m\u001b[32mUPDATE   \u001b[0m\u001b[32m \u001b[0m│\u001b[33m \u001b[0m\u001b[33mPlanning a trip to South Korea next spring        \u001b[0m\u001b[33m \u001b[0m│                                              \u001b[32m│\u001b[0m\n",
       "\u001b[32m│\u001b[0m └───────────┴────────────────────────────────────────────────────┘                                              \u001b[32m│\u001b[0m\n",
       "\u001b[32m╰─────────────────────────────────────────────────────────────────────────────────────────────────────────────────╯\u001b[0m\n"
      ]
     },
     "metadata": {},
     "output_type": "display_data"
    },
    {
     "name": "stdout",
     "output_type": "stream",
     "text": [
      "Great! I'll keep the South Korea vacation budget at $4,000 as planned. With your higher combined income, this means you can maintain your vacation goal while potentially increasing other savings or enjoying a bit more flexibility in your monthly budget.\n",
      "\n",
      "Here's your revised family budget plan keeping the same vacation target:\n",
      "\n",
      "### Family Budget Plan ($8,500 Combined Monthly Income)\n",
      "\n",
      "#### 1. Fixed Expenses (40%): $3,400\n",
      "- Mortgage/rent\n",
      "- Utilities (electricity, water, gas, internet)\n",
      "- Groceries\n",
      "- Insurance (health, home, auto)\n",
      "- Phone plans\n",
      "- Transportation costs\n",
      "- Loan payments\n",
      "\n",
      "#### 2. Wants (30%): $2,550\n",
      "- Restaurant dining (your hobby!)\n",
      "  - With your increased household income, you could explore slightly higher-end restaurants while still looking for those great discounts\n",
      "- Entertainment and subscriptions\n",
      "- Shopping\n",
      "- Personal care\n",
      "- Family activities and date nights\n",
      "\n",
      "#### 3. Savings (30%): $2,550\n",
      "- Emergency fund: $1,100 (~13% of income)\n",
      "- South Korea trip: $333/month (to reach $4,000 over 12 months)\n",
      "- Retirement contributions: $900 (~10.5% of income)\n",
      "- Other long-term savings/investments: $217\n",
      "\n",
      "### Benefits of Maintaining the Same Vacation Budget:\n",
      "\n",
      "1. **Financial Security**: With the higher combined income, you're able to save more for emergencies and retirement while still meeting your vacation goal.\n",
      "\n",
      "2. **Less Pressure**: Since the $333/month for your vacation now represents a smaller percentage of your total savings (13% vs. what would have been about 28% of savings on your individual income), you have more breathing room in your budget.\n",
      "\n",
      "3. **Future Planning**: The additional savings capacity could go toward your next vacation after South Korea, home improvements, or other financial goals you might have.\n",
      "\n",
      "Would you like some recommendations for effective ways to track this budget as a couple? Or would you prefer tips on maximizing your restaurant experiences within your expanded \"wants\" budget?"
     ]
    },
    {
     "name": "stdin",
     "output_type": "stream",
     "text": [
      "\n",
      ">  exit\n"
     ]
    },
    {
     "name": "stdout",
     "output_type": "stream",
     "text": [
      "\n",
      "Goodbye! 👋\n"
     ]
    }
   ],
   "source": [
    "# Interactive loop\n",
    "\n",
    "while True:\n",
    "    try:\n",
    "        user_input = input(\"\\n> \")\n",
    "\n",
    "        if user_input.lower() == \"exit\":\n",
    "            print(\"\\nGoodbye! 👋\")\n",
    "            break\n",
    "        elif user_input.lower() == \"demo\":\n",
    "            initialize_user_preferences()\n",
    "            print(\"\\nUser preferences for Charlie initialized!\")\n",
    "            continue\n",
    "\n",
    "        # Call the memory agent\n",
    "        memory_agent(user_input)\n",
    "\n",
    "    except KeyboardInterrupt:\n",
    "        print(\"\\n\\nExecution interrupted. Exiting...\")\n",
    "        break\n",
    "    except Exception as e:\n",
    "        print(f\"\\nAn error occurred: {str(e)}\")\n",
    "        print(\"Please try a different request.\")"
   ]
  },
  {
   "cell_type": "markdown",
   "metadata": {},
   "source": [
    "## Summary\n",
    "\n",
    "### What You've Learned:\n",
    "- ✅ **Agent Short-Term Memory**: Conversartion History, agent state and request state\n",
    "- ✅ **mem0.io Integration**: Strands memory enabled agent class for storing user preferences\n",
    "- ✅ **Memory Based capabilities**: `mem0_memory` tool stores, retrieves and lists memories\n",
    "\n",
    "\n",
    "### Key Takeaways:\n",
    "1. Strands agents remembers messages through the conversation history\n",
    "2. Agent state provides key-value storage for stateful information to be stored\n",
    "3. Request state dictionary persists throughout the event loop cycles - Separate from agent context\n",
    "4. Tools can access stored user preferences and context from historic messages\n",
    "5. Memory makes agents truly personalized\n",
    "\n",
    "\n",
    "### Next: Lab 3 - Multi-Agent Teams\n",
    "Create multiple agents that work together!"
   ]
  },
  {
   "cell_type": "code",
   "execution_count": null,
   "metadata": {},
   "outputs": [],
   "source": []
  }
 ],
 "metadata": {
  "kernelspec": {
   "display_name": "Python 3 (ipykernel)",
   "language": "python",
   "name": "python3"
  },
  "language_info": {
   "codemirror_mode": {
    "name": "ipython",
    "version": 3
   },
   "file_extension": ".py",
   "mimetype": "text/x-python",
   "name": "python",
   "nbconvert_exporter": "python",
   "pygments_lexer": "ipython3",
   "version": "3.12.9"
  }
 },
 "nbformat": 4,
 "nbformat_minor": 4
}
