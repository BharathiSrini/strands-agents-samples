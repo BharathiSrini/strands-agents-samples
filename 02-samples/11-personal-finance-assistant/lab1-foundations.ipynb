{
 "cells": [
  {
   "cell_type": "markdown",
   "metadata": {},
   "source": [
    "# Lab 1: Strands Agents Basics (10 minutes)\n",
    "\n",
    "## Learning Objectives - AWS Workshop\n",
    "\n",
    "**You'll Learn These Core Strands Patterns:**\n",
    "- ✅ Create your first Strands agent: `Agent(model=BedrockModel(...))`\n",
    "- ✅ Build custom tools: `@tool def my_function()`\n",
    "- ✅ Make agents use tools automatically\n",
    "- ✅ Create reusable visualization tools\n",
    "\n",
    "**What You'll Build:**\n",
    "- Personal finance agent that calculates budgets and creates charts\n",
    "- Reusable visualization tool for all labs\n",
    "- Foundation data for progressive learning\n",
    "\n",
    "## Prerequisites\n",
    "- AWS credentials configured for Bedrock access\n",
    "- Basic Python knowledge"
   ]
  },
  {
   "cell_type": "markdown",
   "metadata": {},
   "source": [
    "## Step 1: Install and Import Strands\n",
    "\n",
    "**Core Strands Pattern**: Import and configure"
   ]
  },
  {
   "cell_type": "code",
   "execution_count": 34,
   "metadata": {
    "execution": {
     "iopub.execute_input": "2025-07-09T23:03:11.271342Z",
     "iopub.status.busy": "2025-07-09T23:03:11.270700Z",
     "iopub.status.idle": "2025-07-09T23:03:14.425505Z",
     "shell.execute_reply": "2025-07-09T23:03:14.424372Z",
     "shell.execute_reply.started": "2025-07-09T23:03:11.271312Z"
    }
   },
   "outputs": [],
   "source": [
    "# Install Strands using pip\n",
    "\n",
    "!pip install -q strands-agents strands-agents-tools matplotlib"
   ]
  },
  {
   "cell_type": "code",
   "execution_count": 35,
   "metadata": {
    "execution": {
     "iopub.execute_input": "2025-07-09T23:03:14.427364Z",
     "iopub.status.busy": "2025-07-09T23:03:14.427022Z",
     "iopub.status.idle": "2025-07-09T23:03:14.432554Z",
     "shell.execute_reply": "2025-07-09T23:03:14.431636Z",
     "shell.execute_reply.started": "2025-07-09T23:03:14.427326Z"
    }
   },
   "outputs": [
    {
     "name": "stdout",
     "output_type": "stream",
     "text": [
      "🚀 Strands Agents SDK imported successfully!\n",
      "📊 AWS Workshop: Ready to build your first agent!\n"
     ]
    }
   ],
   "source": [
    "from strands import Agent, tool\n",
    "from strands.models import BedrockModel\n",
    "\n",
    "# Supporting libraries for our financial agent\n",
    "import pandas as pd\n",
    "import numpy as np\n",
    "import json\n",
    "import matplotlib.pyplot as plt\n",
    "from datetime import datetime, timedelta\n",
    "import warnings\n",
    "warnings.filterwarnings('ignore')\n",
    "\n",
    "print(\"🚀 Strands Agents SDK imported successfully!\")\n",
    "print(\"📊 AWS Workshop: Ready to build your first agent!\")"
   ]
  },
  {
   "cell_type": "code",
   "execution_count": 36,
   "metadata": {
    "execution": {
     "iopub.execute_input": "2025-07-09T23:03:14.434257Z",
     "iopub.status.busy": "2025-07-09T23:03:14.433664Z",
     "iopub.status.idle": "2025-07-09T23:03:14.519929Z",
     "shell.execute_reply": "2025-07-09T23:03:14.519394Z",
     "shell.execute_reply.started": "2025-07-09T23:03:14.434203Z"
    }
   },
   "outputs": [
    {
     "name": "stdout",
     "output_type": "stream",
     "text": [
      "✅ AWS Bedrock model configured for Strands!\n",
      "🎯 Ready to create your first agent\n"
     ]
    }
   ],
   "source": [
    "model = BedrockModel(\n",
    "    model_id=\"us.anthropic.claude-3-7-sonnet-20250219-v1:0\"\n",
    "    # This connects to your AWS Bedrock service\n",
    ")\n",
    "\n",
    "print(\"✅ AWS Bedrock model configured for Strands!\")\n",
    "print(\"🎯 Ready to create your first agent\")"
   ]
  },
  {
   "cell_type": "markdown",
   "metadata": {},
   "source": [
    "## Step 2: Create Your First Strands Agent\n",
    "\n",
    "**Core Strands Pattern**: `Agent(model=model)`"
   ]
  },
  {
   "cell_type": "code",
   "execution_count": 37,
   "metadata": {
    "execution": {
     "iopub.execute_input": "2025-07-09T23:03:14.521299Z",
     "iopub.status.busy": "2025-07-09T23:03:14.520924Z",
     "iopub.status.idle": "2025-07-09T23:03:20.665617Z",
     "shell.execute_reply": "2025-07-09T23:03:20.664904Z",
     "shell.execute_reply.started": "2025-07-09T23:03:14.521278Z"
    }
   },
   "outputs": [
    {
     "name": "stdout",
     "output_type": "stream",
     "text": [
      "# The 50/30/20 Budgeting Rule\n",
      "\n",
      "The 50/30/20 rule is a simple budgeting framework that divides your after-tax income into three spending categories:\n",
      "\n",
      "- **50%** for needs (essential expenses)\n",
      "- **30%** for wants (discretionary spending)\n",
      "- **20%** for savings and debt repayment\n",
      "\n",
      "## Category Breakdown:\n",
      "\n",
      "**Needs (50%)** include:\n",
      "- Housing (rent/mortgage)\n",
      "- Groceries\n",
      "- Utilities\n",
      "- Insurance\n",
      "- Minimum debt payments\n",
      "- Transportation\n",
      "\n",
      "**Wants (30%)** include:\n",
      "- Dining out\n",
      "- Entertainment\n",
      "- Shopping\n",
      "- Travel\n",
      "- Subscriptions\n",
      "\n",
      "**Savings/Debt (20%)** include:\n",
      "- Emergency fund\n",
      "- Retirement accounts\n",
      "- Other savings goals\n",
      "- Extra debt payments beyond minimums\n",
      "\n",
      "This rule provides a straightforward starting point for budgeting, though you may need to adjust the percentages based on your specific financial situation and goals."
     ]
    }
   ],
   "source": [
    "basic_agent = Agent(model=model)\n",
    "\n",
    "# Test your first Strands agent\n",
    "response = basic_agent(\"What is the 50/30/20 budgeting rule?\")"
   ]
  },
  {
   "cell_type": "markdown",
   "metadata": {},
   "source": [
    "## Step 3: Add System Prompt for Specialization\n",
    "\n",
    "**Core Strands Pattern**: `Agent(model=model, system_prompt=\"...\")`\n",
    "\n",
    "The system prompt acts as a guiding framework to the LLM for interpreting user queries, structuring responses and helps the agent to maintain a consistent tone and style."
   ]
  },
  {
   "cell_type": "code",
   "execution_count": 38,
   "metadata": {
    "execution": {
     "iopub.execute_input": "2025-07-09T23:03:20.666347Z",
     "iopub.status.busy": "2025-07-09T23:03:20.666161Z",
     "iopub.status.idle": "2025-07-09T23:03:26.168545Z",
     "shell.execute_reply": "2025-07-09T23:03:26.167825Z",
     "shell.execute_reply.started": "2025-07-09T23:03:20.666330Z"
    }
   },
   "outputs": [
    {
     "name": "stdout",
     "output_type": "stream",
     "text": [
      "💰 Specialized Financial Agent Response:\n",
      "Based on your monthly income of $5,000, spending $800 on dining out represents 16% of your income, which is on the high side for a typical budget.\n",
      "\n",
      "Most financial experts recommend limiting food expenses (including groceries and dining out) to 10-15% of your income, with dining out being only a portion of that.\n",
      "\n",
      "Here are specific steps you can consider:\n",
      "\n",
      "1. Try reducing dining out to $500-600/month (10-12% of income) by replacing 1-2 restaurant meals each week with home-cooked alternatives.\n",
      "\n",
      "2. Track your dining expenses for two weeks to identify patterns - are there specific days or situations when you're more likely to eat out? This awareness can help you plan better.\n",
      "\n",
      "3. Set up a dedicated \"dining out\" budget category in your banking app or use cash specifically for restaurants to make the spending more tangible.\n",
      "\n",
      "Would you like suggestions for balancing enjoyment of restaurants while reducing this expense?"
     ]
    }
   ],
   "source": [
    "financial_agent = Agent(\n",
    "    model=model,\n",
    "    system_prompt= \"\"\" You are a helpful personal finance assistant. You provide general strategies \n",
    "    to creating budgets, tips on finacial discipline to acheive financial milestones and analyse\n",
    "    financial trends. You do not provide any investment advice.\n",
    "    \n",
    "    Keep responses concise and actionable.\n",
    "    Always provide 2-3 specific steps the user can take.\n",
    "    Focus on practical budgeting and spending advice.\n",
    "    \"\"\"\n",
    ")\n",
    "\n",
    "# Test the specialized agent\n",
    "print(\"💰 Specialized Financial Agent Response:\")\n",
    "response = financial_agent(\"I spend $800/month on dining out. Is this too much for someone making $5000/month?\")"
   ]
  },
  {
   "cell_type": "markdown",
   "metadata": {},
   "source": [
    "## Step 4: Create Custom Tools\n",
    "\n",
    "**Core Strands Pattern**: `@tool` decorator for custom functions"
   ]
  },
  {
   "cell_type": "code",
   "execution_count": 39,
   "metadata": {
    "execution": {
     "iopub.execute_input": "2025-07-09T23:03:26.170077Z",
     "iopub.status.busy": "2025-07-09T23:03:26.169852Z",
     "iopub.status.idle": "2025-07-09T23:03:26.411293Z",
     "shell.execute_reply": "2025-07-09T23:03:26.410549Z",
     "shell.execute_reply.started": "2025-07-09T23:03:26.170057Z"
    }
   },
   "outputs": [
    {
     "name": "stdout",
     "output_type": "stream",
     "text": [
      "🛠️ Custom Strands tools created!\n",
      "🎯 Key Pattern: @tool decorator makes any function available to agents\n"
     ]
    }
   ],
   "source": [
    "@tool\n",
    "def calculate_budget(monthly_income: float) -> str:\n",
    "    \"\"\"Calculate 50/30/20 budget breakdown.\"\"\"\n",
    "    needs = monthly_income * 0.50\n",
    "    wants = monthly_income * 0.30  \n",
    "    savings = monthly_income * 0.20\n",
    "    return f\"💰 Budget for ${monthly_income:,.0f}/month:\\n• Needs: ${needs:,.0f} (50%)\\n• Wants: ${wants:,.0f} (30%)\\n• Savings: ${savings:,.0f} (20%)\"\n",
    "\n",
    "@tool\n",
    "def create_financial_chart(data_dict: dict, chart_title: str = \"Financial Chart\") -> str:\n",
    "    \"\"\"Universal chart creator - reusable across all labs!\"\"\"\n",
    "    if not data_dict:\n",
    "        return \"❌ No data provided for chart\"\n",
    "    \n",
    "    # Create pie chart\n",
    "    labels = list(data_dict.keys())\n",
    "    values = list(data_dict.values())\n",
    "    colors = ['#FF6B6B', '#4ECDC4', '#45B7D1', '#96CEB4', '#FECA57', '#FF9FF3']\n",
    "    \n",
    "    plt.figure(figsize=(8, 6))\n",
    "    plt.pie(values, labels=labels, autopct='%1.1f%%', colors=colors[:len(values)], startangle=90)\n",
    "    plt.title(f'📊 {chart_title}', fontsize=14, fontweight='bold')\n",
    "    plt.axis('equal')\n",
    "    plt.tight_layout()\n",
    "    plt.show()\n",
    "    \n",
    "    return f\"✅ {chart_title} visualization created!\"\n",
    "\n",
    "@tool\n",
    "def generate_sample_data() -> str:\n",
    "    \"\"\"Generate sample financial data.\"\"\"\n",
    "    # Create sample spending data\n",
    "    spending_data = {\n",
    "        'Groceries': 400,\n",
    "        'Dining': 300, \n",
    "        'Transportation': 200,\n",
    "        'Entertainment': 150,\n",
    "        'Utilities': 250,\n",
    "        'Shopping': 200\n",
    "    }\n",
    "    \n",
    "    # Save for other labs to use\n",
    "    global sample_spending_data\n",
    "    sample_spending_data = spending_data\n",
    "    \n",
    "    # Create user profile\n",
    "    user_profile = {\n",
    "        \"monthly_income\": 5000,\n",
    "        \"budget_goal\": 1000,\n",
    "        \"focus_areas\": [\"dining\", \"shopping\"],\n",
    "        \"created_date\": datetime.now().isoformat()\n",
    "    }\n",
    "    \n",
    "    with open('user_profile.json', 'w') as f:\n",
    "        json.dump(user_profile, f, indent=2)\n",
    "    \n",
    "    total_spending = sum(spending_data.values())\n",
    "    return f\"✅ Sample data created! Total monthly spending: ${total_spending:,}\"\n",
    "\n",
    "print(\"🛠️ Custom Strands tools created!\")\n",
    "print(\"🎯 Key Pattern: @tool decorator makes any function available to agents\")"
   ]
  },
  {
   "cell_type": "markdown",
   "metadata": {},
   "source": [
    "## Step 5: Create Agent with Tools\n",
    "\n",
    "**Core Strands Pattern**: `Agent(model=model, tools=[tool1, tool2], system_prompt=\"...\")`"
   ]
  },
  {
   "cell_type": "code",
   "execution_count": 40,
   "metadata": {
    "execution": {
     "iopub.execute_input": "2025-07-09T23:03:26.412652Z",
     "iopub.status.busy": "2025-07-09T23:03:26.412298Z",
     "iopub.status.idle": "2025-07-09T23:03:26.417341Z",
     "shell.execute_reply": "2025-07-09T23:03:26.416546Z",
     "shell.execute_reply.started": "2025-07-09T23:03:26.412622Z"
    }
   },
   "outputs": [
    {
     "name": "stdout",
     "output_type": "stream",
     "text": [
      "🎯 Budget Agent with Tools Ready!\n",
      "✨ This agent can automatically choose which tools to use!\n"
     ]
    }
   ],
   "source": [
    "budget_agent = Agent(\n",
    "    model=model,\n",
    "    tools=[calculate_budget, create_financial_chart, generate_sample_data],\n",
    "    system_prompt=\"\"\"You are a budget analysis agent.\n",
    "\n",
    "    Your capabilities:\n",
    "    - Calculate 50/30/20 budgets using calculate_budget tool\n",
    "    - Create visual charts using create_financial_chart tool  \n",
    "    - Generate sample data using generate_sample_data tool\n",
    "\n",
    "    Always be concise and use tools when appropriate.\n",
    "    Provide visual output whenever possible.\n",
    "    \"\"\"\n",
    ")\n",
    "\n",
    "print(\"🎯 Budget Agent with Tools Ready!\")\n",
    "print(\"✨ This agent can automatically choose which tools to use!\")"
   ]
  },
  {
   "cell_type": "markdown",
   "metadata": {},
   "source": [
    "## Step 6: Test Your Strands Agent with Tools\n",
    "\n",
    "Watch your agent automatically choose and use tools!"
   ]
  },
  {
   "cell_type": "code",
   "execution_count": 41,
   "metadata": {
    "collapsed": true,
    "execution": {
     "iopub.execute_input": "2025-07-09T23:03:26.418814Z",
     "iopub.status.busy": "2025-07-09T23:03:26.418349Z",
     "iopub.status.idle": "2025-07-09T23:03:44.651165Z",
     "shell.execute_reply": "2025-07-09T23:03:44.650363Z",
     "shell.execute_reply.started": "2025-07-09T23:03:26.418603Z"
    },
    "jupyter": {
     "outputs_hidden": true
    }
   },
   "outputs": [
    {
     "name": "stdout",
     "output_type": "stream",
     "text": [
      "🧪 Testing: Agent automatically chooses tools based on request\n",
      "============================================================\n",
      "🤖 Agent Response - Budget Request:\n",
      "I'd be happy to create a budget breakdown for your $6000 monthly income using the 50/30/20 rule. Let me calculate that for you and create a visual representation.\n",
      "Tool #1: calculate_budget\n",
      "Now let me create a chart to visualize this budget breakdown:\n",
      "Tool #2: create_financial_chart\n"
     ]
    },
    {
     "data": {
      "image/png": "[encoded data removed]",
      "text/plain": [
       "<Figure size 800x600 with 1 Axes>"
      ]
     },
     "metadata": {},
     "output_type": "display_data"
    },
    {
     "name": "stdout",
     "output_type": "stream",
     "text": [
      "## Your 50/30/20 Budget Breakdown\n",
      "\n",
      "Based on your monthly income of $6,000:\n",
      "\n",
      "- **Needs (50%)**: $3,000\n",
      "  *Essentials like rent/mortgage, utilities, groceries, minimum debt payments, insurance, etc.*\n",
      "\n",
      "- **Wants (30%)**: $1,800\n",
      "  *Non-essentials like dining out, entertainment, hobbies, subscriptions, etc.*\n",
      "\n",
      "- **Savings (20%)**: $1,200\n",
      "  *Emergency fund, retirement accounts, investments, additional debt payments, etc.*\n",
      "\n",
      "This is a general guideline that you can adjust based on your specific financial goals and circumstances. Would you like any specific advice on any of these categories?"
     ]
    }
   ],
   "source": [
    "# Step 7: Test Autonomous Tool Selection\n",
    "print(\"🧪 Testing: Agent automatically chooses tools based on request\")\n",
    "print(\"=\"*60)\n",
    "\n",
    "# Test 1: Budget calculation\n",
    "print(\"🤖 Agent Response - Budget Request:\")\n",
    "response1 = budget_agent(\"I make $6000 per month. Can you create a budget breakdown for me?\")"
   ]
  },
  {
   "cell_type": "markdown",
   "metadata": {},
   "source": [
    "# Test 2: Data generation + visualization\n",
    "response2 = budget_agent(\"Create some sample spending data and show me a visual breakdown\")\n",
    "print(\"🤖 Agent Response - Data + Visualization Request:\")\n",
    "print(response2)"
   ]
  },
  {
   "cell_type": "code",
   "execution_count": 42,
   "metadata": {
    "collapsed": true,
    "execution": {
     "iopub.execute_input": "2025-07-09T23:03:44.653342Z",
     "iopub.status.busy": "2025-07-09T23:03:44.652258Z",
     "iopub.status.idle": "2025-07-09T23:03:58.343172Z",
     "shell.execute_reply": "2025-07-09T23:03:58.342517Z",
     "shell.execute_reply.started": "2025-07-09T23:03:44.653306Z"
    },
    "jupyter": {
     "outputs_hidden": true
    }
   },
   "outputs": [
    {
     "name": "stdout",
     "output_type": "stream",
     "text": [
      "\n",
      "🤖 Agent Response - Chart Request:\n",
      "I'll create a pie chart showing your budget breakdown by category based on the 50/30/20 rule we calculated for your $6,000 monthly income.\n",
      "Tool #3: create_financial_chart\n"
     ]
    },
    {
     "data": {
      "image/png": "[encoded data removed]",
      "text/plain": [
       "<Figure size 800x600 with 1 Axes>"
      ]
     },
     "metadata": {},
     "output_type": "display_data"
    },
    {
     "name": "stdout",
     "output_type": "stream",
     "text": [
      "Here's your pie chart showing how your $6,000 monthly income is allocated across the three main budget categories:\n",
      "\n",
      "- **Needs (50%)**: $3,000 - The largest portion covers essentials like housing, utilities, groceries, transportation, insurance, and minimum debt payments.\n",
      "\n",
      "- **Wants (30%)**: $1,800 - This covers discretionary spending like dining out, entertainment, shopping, vacations, and subscription services.\n",
      "\n",
      "- **Savings (20%)**: $1,200 - This portion is allocated to building your emergency fund, retirement savings, investments, and additional debt payments.\n",
      "\n",
      "The pie chart provides a clear visual of how the 50/30/20 budgeting rule applies to your specific income. Is there anything specific about this breakdown you'd like me to explain further?"
     ]
    }
   ],
   "source": [
    "# Test 3: Create spending analysis chart\n",
    "if 'sample_spending_data' in globals():\n",
    "    print(\"\\n🤖 Agent Response - Chart Request:\")\n",
    "    response3 = budget_agent(\"Can you create a pie chart showing my spending breakdown by category?\")\n",
    "else:\n",
    "    print(\"⚠️ Run the previous cell first to generate sample data\")"
   ]
  },
  {
   "cell_type": "markdown",
   "metadata": {
    "execution": {
     "iopub.execute_input": "2025-07-09T19:21:29.474157Z",
     "iopub.status.busy": "2025-07-09T19:21:29.473630Z",
     "iopub.status.idle": "2025-07-09T19:21:29.477315Z",
     "shell.execute_reply": "2025-07-09T19:21:29.476615Z",
     "shell.execute_reply.started": "2025-07-09T19:21:29.474132Z"
    }
   },
   "source": [
    "## Safety - Layer Amazon Bedrock Guardrail as safeguards\n",
    "A system prompt does not always block harmful content because we have instructed a LLM to follow a certain set of guidelines. To ensure user safety from LLM based risks such as hallucinations, it is important to add additional safeguards like guardrails, and consider architectural patterns like Retrieval Augmented Generation to introduce contextual data and human in the loop to verify responses. "
   ]
  },
  {
   "cell_type": "code",
   "execution_count": 32,
   "metadata": {
    "collapsed": true,
    "execution": {
     "iopub.execute_input": "2025-07-09T19:19:56.303887Z",
     "iopub.status.busy": "2025-07-09T19:19:56.303302Z",
     "iopub.status.idle": "2025-07-09T19:21:27.498573Z",
     "shell.execute_reply": "2025-07-09T19:21:27.497445Z",
     "shell.execute_reply.started": "2025-07-09T19:19:56.303861Z"
    },
    "jupyter": {
     "outputs_hidden": true
    }
   },
   "outputs": [
    {
     "name": "stdin",
     "output_type": "stream",
     "text": [
      "\n",
      "You:  How should I invest my savings to make it future proof?\n"
     ]
    },
    {
     "name": "stdout",
     "output_type": "stream",
     "text": [
      "That's a great question about investing your savings for long-term security. Investment strategy is a personal decision that depends on many factors including your age, risk tolerance, financial goals, and time horizon.\n",
      "\n",
      "While I don't have a specific tool to create a personalized investment strategy, I can offer some general principles for future-proofing your investments:\n",
      "\n",
      "### General Investment Principles:\n",
      "\n",
      "1. **Diversification** - Spread your investments across different asset classes (stocks, bonds, real estate, etc.) to reduce risk\n",
      "\n",
      "2. **Long-term perspective** - Historically, the stock market has provided strong returns over long periods despite short-term volatility\n",
      "\n",
      "3. **Regular contributions** - Consider dollar-cost averaging (investing consistently regardless of market conditions)\n",
      "\n",
      "4. **Low-cost index funds** - These provide broad market exposure with minimal fees\n",
      "\n",
      "5. **Emergency fund first** - Ensure you have 3-6 months of expenses in easily accessible cash before investing more aggressively\n",
      "\n",
      "### Common Investment Allocation Framework:\n",
      "\n",
      "A basic rule of thumb some financial advisors suggest is:\n",
      "- **110 minus your age** = Percentage to allocate to stocks\n",
      "- **Remainder** = Percentage to allocate to bonds/fixed income\n",
      "\n",
      "For example, if you're 30 years old, you might consider having about 80% in stocks and 20% in bonds, gradually shifting to more conservative allocations as you age.\n",
      "\n",
      "To get personalized investment advice tailored to your specific situation, I'd recommend consulting with a financial advisor who can consider your complete financial picture, goals, and risk tolerance.\n",
      "\n",
      "Would you like more information about any specific aspect of investment strategy?"
     ]
    },
    {
     "name": "stdin",
     "output_type": "stream",
     "text": [
      "\n",
      "You:  Which stocks should I buy?\n"
     ]
    },
    {
     "name": "stdout",
     "output_type": "stream",
     "text": [
      "I understand you're interested in stock investments, but I should clarify that I'm not qualified to recommend specific stocks for your portfolio. Making individual stock recommendations requires:\n",
      "\n",
      "1. Deep knowledge of your financial situation\n",
      "2. Understanding your risk tolerance\n",
      "3. Analysis of current market conditions\n",
      "4. Proper licensing and credentials\n",
      "\n",
      "Instead, I can offer some general guidance on approaches to stock investing:\n",
      "\n",
      "### Common Stock Investment Approaches:\n",
      "\n",
      "- **Index funds/ETFs**: Provide broad market exposure (like S&P 500 index funds) with lower risk than individual stocks\n",
      "- **Dividend stocks**: Companies with history of paying consistent dividends\n",
      "- **Growth stocks**: Companies expected to grow faster than market average\n",
      "- **Value stocks**: Companies trading below their intrinsic value\n",
      "- **Blue-chip stocks**: Large, well-established companies with stable performance\n",
      "\n",
      "### Considerations When Evaluating Stocks:\n",
      "\n",
      "- Company fundamentals (earnings, revenue growth, debt levels)\n",
      "- Competitive advantages and industry position\n",
      "- Management team quality\n",
      "- Valuation metrics (P/E ratio, PEG ratio, etc.)\n",
      "- Your own understanding of the business model\n",
      "\n",
      "For personalized investment advice, I'd recommend consulting with a licensed financial advisor who can provide guidance aligned with your specific goals and circumstances. Many investors also choose index funds rather than individual stocks to reduce risk through diversification.\n",
      "\n",
      "Would you like me to explain any of these investment approaches in more detail?"
     ]
    },
    {
     "ename": "KeyboardInterrupt",
     "evalue": "Interrupted by user",
     "output_type": "error",
     "traceback": [
      "\u001b[0;31m---------------------------------------------------------------------------\u001b[0m",
      "\u001b[0;31mKeyboardInterrupt\u001b[0m                         Traceback (most recent call last)",
      "Cell \u001b[0;32mIn[32], line 4\u001b[0m\n\u001b[1;32m      1\u001b[0m \u001b[38;5;66;03m# response4 = budget_agent(\"How should I invest my savings to make it future proof?\")\u001b[39;00m\n\u001b[1;32m      2\u001b[0m \u001b[38;5;66;03m# Start conversation\u001b[39;00m\n\u001b[1;32m      3\u001b[0m \u001b[38;5;28;01mwhile\u001b[39;00m \u001b[38;5;28;01mTrue\u001b[39;00m:\n\u001b[0;32m----> 4\u001b[0m     user_input \u001b[38;5;241m=\u001b[39m \u001b[38;5;28;43minput\u001b[39;49m\u001b[43m(\u001b[49m\u001b[38;5;124;43m\"\u001b[39;49m\u001b[38;5;130;43;01m\\n\u001b[39;49;00m\u001b[38;5;124;43mYou: \u001b[39;49m\u001b[38;5;124;43m\"\u001b[39;49m\u001b[43m)\u001b[49m\n\u001b[1;32m      6\u001b[0m     \u001b[38;5;28;01mif\u001b[39;00m user_input\u001b[38;5;241m.\u001b[39mlower() \u001b[38;5;241m==\u001b[39m \u001b[38;5;124m\"\u001b[39m\u001b[38;5;124mexit\u001b[39m\u001b[38;5;124m\"\u001b[39m:\n\u001b[1;32m      7\u001b[0m         \u001b[38;5;28mprint\u001b[39m(\u001b[38;5;124m\"\u001b[39m\u001b[38;5;124mGoodbye!\u001b[39m\u001b[38;5;124m\"\u001b[39m)\n",
      "File \u001b[0;32m/opt/conda/lib/python3.12/site-packages/ipykernel/kernelbase.py:1282\u001b[0m, in \u001b[0;36mKernel.raw_input\u001b[0;34m(self, prompt)\u001b[0m\n\u001b[1;32m   1280\u001b[0m     msg \u001b[38;5;241m=\u001b[39m \u001b[38;5;124m\"\u001b[39m\u001b[38;5;124mraw_input was called, but this frontend does not support input requests.\u001b[39m\u001b[38;5;124m\"\u001b[39m\n\u001b[1;32m   1281\u001b[0m     \u001b[38;5;28;01mraise\u001b[39;00m StdinNotImplementedError(msg)\n\u001b[0;32m-> 1282\u001b[0m \u001b[38;5;28;01mreturn\u001b[39;00m \u001b[38;5;28;43mself\u001b[39;49m\u001b[38;5;241;43m.\u001b[39;49m\u001b[43m_input_request\u001b[49m\u001b[43m(\u001b[49m\n\u001b[1;32m   1283\u001b[0m \u001b[43m    \u001b[49m\u001b[38;5;28;43mstr\u001b[39;49m\u001b[43m(\u001b[49m\u001b[43mprompt\u001b[49m\u001b[43m)\u001b[49m\u001b[43m,\u001b[49m\n\u001b[1;32m   1284\u001b[0m \u001b[43m    \u001b[49m\u001b[38;5;28;43mself\u001b[39;49m\u001b[38;5;241;43m.\u001b[39;49m\u001b[43m_parent_ident\u001b[49m\u001b[43m[\u001b[49m\u001b[38;5;124;43m\"\u001b[39;49m\u001b[38;5;124;43mshell\u001b[39;49m\u001b[38;5;124;43m\"\u001b[39;49m\u001b[43m]\u001b[49m\u001b[43m,\u001b[49m\n\u001b[1;32m   1285\u001b[0m \u001b[43m    \u001b[49m\u001b[38;5;28;43mself\u001b[39;49m\u001b[38;5;241;43m.\u001b[39;49m\u001b[43mget_parent\u001b[49m\u001b[43m(\u001b[49m\u001b[38;5;124;43m\"\u001b[39;49m\u001b[38;5;124;43mshell\u001b[39;49m\u001b[38;5;124;43m\"\u001b[39;49m\u001b[43m)\u001b[49m\u001b[43m,\u001b[49m\n\u001b[1;32m   1286\u001b[0m \u001b[43m    \u001b[49m\u001b[43mpassword\u001b[49m\u001b[38;5;241;43m=\u001b[39;49m\u001b[38;5;28;43;01mFalse\u001b[39;49;00m\u001b[43m,\u001b[49m\n\u001b[1;32m   1287\u001b[0m \u001b[43m\u001b[49m\u001b[43m)\u001b[49m\n",
      "File \u001b[0;32m/opt/conda/lib/python3.12/site-packages/ipykernel/kernelbase.py:1325\u001b[0m, in \u001b[0;36mKernel._input_request\u001b[0;34m(self, prompt, ident, parent, password)\u001b[0m\n\u001b[1;32m   1322\u001b[0m \u001b[38;5;28;01mexcept\u001b[39;00m \u001b[38;5;167;01mKeyboardInterrupt\u001b[39;00m:\n\u001b[1;32m   1323\u001b[0m     \u001b[38;5;66;03m# re-raise KeyboardInterrupt, to truncate traceback\u001b[39;00m\n\u001b[1;32m   1324\u001b[0m     msg \u001b[38;5;241m=\u001b[39m \u001b[38;5;124m\"\u001b[39m\u001b[38;5;124mInterrupted by user\u001b[39m\u001b[38;5;124m\"\u001b[39m\n\u001b[0;32m-> 1325\u001b[0m     \u001b[38;5;28;01mraise\u001b[39;00m \u001b[38;5;167;01mKeyboardInterrupt\u001b[39;00m(msg) \u001b[38;5;28;01mfrom\u001b[39;00m\u001b[38;5;250m \u001b[39m\u001b[38;5;28;01mNone\u001b[39;00m\n\u001b[1;32m   1326\u001b[0m \u001b[38;5;28;01mexcept\u001b[39;00m \u001b[38;5;167;01mException\u001b[39;00m:\n\u001b[1;32m   1327\u001b[0m     \u001b[38;5;28mself\u001b[39m\u001b[38;5;241m.\u001b[39mlog\u001b[38;5;241m.\u001b[39mwarning(\u001b[38;5;124m\"\u001b[39m\u001b[38;5;124mInvalid Message:\u001b[39m\u001b[38;5;124m\"\u001b[39m, exc_info\u001b[38;5;241m=\u001b[39m\u001b[38;5;28;01mTrue\u001b[39;00m)\n",
      "\u001b[0;31mKeyboardInterrupt\u001b[0m: Interrupted by user"
     ]
    }
   ],
   "source": [
    "# ⚠️ If you use the query below and engage in multi-turn conversations with the agent, you might be able to \n",
    "# get the model to generate stock investment advice, which may be risky for the user. ⚠️\n",
    "\n",
    "# query = budget_agent(\"How should I invest my savings to make it future proof?\")\n",
    "\n",
    "# Start conversation\n",
    "while True:\n",
    "    user_input = input(\"\\nYou: \")\n",
    "    \n",
    "    if user_input.lower() == \"exit\":\n",
    "        print(\"Goodbye!\")\n",
    "        break\n",
    "    \n",
    "    # Process the user input and get a response\n",
    "    response = budget_agent(user_input)"
   ]
  },
  {
   "cell_type": "markdown",
   "metadata": {},
   "source": [
    "### To prevent the agent from providing stock investment advice in specific stocks, let's create topics filters in Amazon Bedrock Guardrails"
   ]
  },
  {
   "cell_type": "code",
   "execution_count": 44,
   "metadata": {
    "execution": {
     "iopub.execute_input": "2025-07-09T23:10:29.615487Z",
     "iopub.status.busy": "2025-07-09T23:10:29.614906Z",
     "iopub.status.idle": "2025-07-09T23:10:29.719815Z",
     "shell.execute_reply": "2025-07-09T23:10:29.719137Z",
     "shell.execute_reply.started": "2025-07-09T23:10:29.615439Z"
    }
   },
   "outputs": [],
   "source": [
    "# Configure AWS clients\n",
    "import boto3\n",
    "bedrock_client = boto3.client('bedrock')\n",
    "bedrock_runtime = boto3.client('bedrock-runtime')"
   ]
  },
  {
   "cell_type": "markdown",
   "metadata": {},
   "source": [
    "You can now use the `create_guardrail` method to create the no-stock-investment-advice guardrail that will be used in our application. In this example, our guardrail will include a topic deny for Stock Investment Advice that will block our agent to provide any advice on investing in specific stocks. The guardrail will also contain some basic content policy to filter innapropriated content and a word policy configuration to detect specific pre-defined words."
   ]
  },
  {
   "cell_type": "code",
   "execution_count": 46,
   "metadata": {
    "execution": {
     "iopub.execute_input": "2025-07-09T23:15:58.264637Z",
     "iopub.status.busy": "2025-07-09T23:15:58.264223Z",
     "iopub.status.idle": "2025-07-09T23:15:58.692248Z",
     "shell.execute_reply": "2025-07-09T23:15:58.691523Z",
     "shell.execute_reply.started": "2025-07-09T23:15:58.264608Z"
    },
    "scrolled": true
   },
   "outputs": [
    {
     "name": "stdout",
     "output_type": "stream",
     "text": [
      "Guardrail ID: mpl8d0pk8red\n",
      "Guardrail ARN: arn:aws:bedrock:us-west-2:397288691765:guardrail/mpl8d0pk8red\n"
     ]
    }
   ],
   "source": [
    "# Create a Bedrock guardrail\n",
    "response = bedrock_client.create_guardrail(\n",
    "    name='no-investment-advice',\n",
    "    description='Prevents the model from providing stock investment advice.',\n",
    "    topicPolicyConfig={\n",
    "        'topicsConfig': [\n",
    "            {\n",
    "                'name': 'Stock Investment Advice',\n",
    "                'definition': 'Providing personalized advice or recommendations on investing in financial instruments such as stocks or trusts in a fiduciary capacity or assuming related obligations and liabilities.',\n",
    "                'examples': [\n",
    "                    'What stocks should I invest in for my retirement?',\n",
    "                    'Is it a good idea to put my money in a mutual fund?',\n",
    "                    'How should I allocate my 401(k) investments?',\n",
    "                    'What type of trust fund should I set up for my children?',\n",
    "                    'Which stocks have the highest returns?'\n",
    "                ],\n",
    "                'type': 'DENY'\n",
    "            }\n",
    "        ]\n",
    "    },\n",
    "    contentPolicyConfig={\n",
    "        'filtersConfig': [\n",
    "            {\n",
    "                'type': 'SEXUAL',\n",
    "                'inputStrength': 'HIGH',\n",
    "                'outputStrength': 'HIGH'\n",
    "            },\n",
    "            {\n",
    "                'type': 'VIOLENCE',\n",
    "                'inputStrength': 'HIGH',\n",
    "                'outputStrength': 'HIGH'\n",
    "            },\n",
    "            {\n",
    "                'type': 'HATE',\n",
    "                'inputStrength': 'HIGH',\n",
    "                'outputStrength': 'HIGH'\n",
    "            },\n",
    "            {\n",
    "                'type': 'INSULTS',\n",
    "                'inputStrength': 'HIGH',\n",
    "                'outputStrength': 'HIGH'\n",
    "            },\n",
    "            {\n",
    "                'type': 'MISCONDUCT',\n",
    "                'inputStrength': 'HIGH',\n",
    "                'outputStrength': 'HIGH'\n",
    "            },\n",
    "            {\n",
    "                'type': 'PROMPT_ATTACK',\n",
    "                'inputStrength': 'HIGH',\n",
    "                'outputStrength': 'NONE'\n",
    "            }\n",
    "        ]\n",
    "    },\n",
    "    wordPolicyConfig={\n",
    "        'wordsConfig': [\n",
    "            {'text': 'fiduciary advice'},\n",
    "            {'text': 'investment recommendations'},\n",
    "            {'text': 'stock picks'},\n",
    "            {'text': 'financial planning guidance'},\n",
    "            {'text': 'portfolio allocation advice'},\n",
    "            {'text': 'retirement fund suggestions'},\n",
    "            {'text': 'trust fund setup'},\n",
    "            {'text': 'investment strategy'},\n",
    "            {'text': 'financial advisor recommendations'}\n",
    "        ],\n",
    "        'managedWordListsConfig': [\n",
    "            {\n",
    "                'type': 'PROFANITY'\n",
    "            }\n",
    "        ]\n",
    "    },\n",
    "    blockedInputMessaging='I apologize, but I am not able to provide fiduciary advice. It is best to consult with trusted finance specialists to learn how to invest your money',\n",
    "    blockedOutputsMessaging='I apologize, but I am not able to provide fiduciary advice. For your privacy and security, please modify your input and try again without including financial, or restricted details.',\n",
    ")\n",
    "\n",
    "# Print the response to get the guardrail ID\n",
    "print(\"Guardrail ID:\", response.get('guardrailId'))\n",
    "print(\"Guardrail ARN:\", response.get('guardrailArn'))\n",
    "\n",
    "# Store the guardrail ID for later use"
   ]
  },
  {
   "cell_type": "code",
   "execution_count": 47,
   "metadata": {
    "execution": {
     "iopub.execute_input": "2025-07-09T23:16:11.910470Z",
     "iopub.status.busy": "2025-07-09T23:16:11.909928Z",
     "iopub.status.idle": "2025-07-09T23:16:11.913210Z",
     "shell.execute_reply": "2025-07-09T23:16:11.912745Z",
     "shell.execute_reply.started": "2025-07-09T23:16:11.910439Z"
    }
   },
   "outputs": [],
   "source": [
    "guardrail_id = response.get('guardrailId')\n",
    "guardrail_version = \"DRAFT\"  # Initial version is always 1"
   ]
  },
  {
   "cell_type": "code",
   "execution_count": 49,
   "metadata": {
    "execution": {
     "iopub.execute_input": "2025-07-09T23:17:44.341300Z",
     "iopub.status.busy": "2025-07-09T23:17:44.340957Z",
     "iopub.status.idle": "2025-07-09T23:17:44.803772Z",
     "shell.execute_reply": "2025-07-09T23:17:44.802983Z",
     "shell.execute_reply.started": "2025-07-09T23:17:44.341277Z"
    }
   },
   "outputs": [
    {
     "name": "stdout",
     "output_type": "stream",
     "text": [
      " 🧪 Testing safe input 🧪:\n",
      "Action: NONE\n",
      "Action Reason: No action.\n",
      "Content INPUT blocked: False\n",
      "\n",
      " ⚠️ Testing input that should be blocked ⚠️:\n",
      "Action: GUARDRAIL_INTERVENED\n",
      "Action Reason: Guardrail blocked.\n",
      "Content INPUT blocked: True\n",
      "Blocked topics: ['Stock Investment Advice']\n",
      "Modified content: I apologize, but I am not able to provide fiduciary advice. It is best to consult with trusted finance specialists to learn how to invest your money\n"
     ]
    },
    {
     "data": {
      "text/plain": [
       "{'ResponseMetadata': {'RequestId': '61eb252a-4823-4424-a4d9-4828ba4bb577',\n",
       "  'HTTPStatusCode': 200,\n",
       "  'HTTPHeaders': {'date': 'Wed, 09 Jul 2025 23:17:44 GMT',\n",
       "   'content-type': 'application/json',\n",
       "   'content-length': '1321',\n",
       "   'connection': 'keep-alive',\n",
       "   'x-amzn-requestid': '61eb252a-4823-4424-a4d9-4828ba4bb577'},\n",
       "  'RetryAttempts': 0},\n",
       " 'usage': {'topicPolicyUnits': 1,\n",
       "  'contentPolicyUnits': 1,\n",
       "  'wordPolicyUnits': 1,\n",
       "  'sensitiveInformationPolicyUnits': 0,\n",
       "  'sensitiveInformationPolicyFreeUnits': 0,\n",
       "  'contextualGroundingPolicyUnits': 0,\n",
       "  'contentPolicyImageUnits': 0},\n",
       " 'action': 'GUARDRAIL_INTERVENED',\n",
       " 'actionReason': 'Guardrail blocked.',\n",
       " 'outputs': [{'text': 'I apologize, but I am not able to provide fiduciary advice. It is best to consult with trusted finance specialists to learn how to invest your money'}],\n",
       " 'assessments': [{'topicPolicy': {'topics': [{'name': 'Stock Investment Advice',\n",
       "      'type': 'DENY',\n",
       "      'action': 'BLOCKED',\n",
       "      'detected': True}]},\n",
       "   'invocationMetrics': {'guardrailProcessingLatency': 207,\n",
       "    'usage': {'topicPolicyUnits': 1,\n",
       "     'contentPolicyUnits': 1,\n",
       "     'wordPolicyUnits': 1,\n",
       "     'sensitiveInformationPolicyUnits': 0,\n",
       "     'sensitiveInformationPolicyFreeUnits': 0,\n",
       "     'contextualGroundingPolicyUnits': 0,\n",
       "     'contentPolicyImageUnits': 0},\n",
       "    'guardrailCoverage': {'textCharacters': {'guarded': 49, 'total': 49}}}}],\n",
       " 'guardrailCoverage': {'textCharacters': {'guarded': 49, 'total': 49}}}"
      ]
     },
     "execution_count": 49,
     "metadata": {},
     "output_type": "execute_result"
    }
   ],
   "source": [
    "## Test the Guardrail directly\n",
    "# Test function to check if input/output is blocked by guardrail\n",
    "def test_guardrail(text, source_type='INPUT'):\n",
    "      response = bedrock_runtime.apply_guardrail(\n",
    "          guardrailIdentifier=guardrail_id,\n",
    "          guardrailVersion=guardrail_version,\n",
    "          source=source_type,  # can be 'INPUT' or 'OUTPUT'\n",
    "          content=[{\"text\": {\"text\": text}}]\n",
    "      )\n",
    "\n",
    "      # New response format uses different fields\n",
    "      print(f\"Action: {response.get('action')}\")\n",
    "      print(f\"Action Reason: {response.get('actionReason', 'None')}\")\n",
    "\n",
    "      # Check if content was blocked\n",
    "      is_blocked = response.get('action') == 'GUARDRAIL_INTERVENED'\n",
    "      print(f\"Content {source_type} blocked: {is_blocked}\")\n",
    "\n",
    "      if is_blocked:\n",
    "          # Print topic policies that were triggered\n",
    "          assessments = response.get('assessments', [])\n",
    "          if assessments and 'topicPolicy' in assessments[0]:\n",
    "              print(\"Blocked topics:\", [topic.get('name') for topic in\n",
    "  assessments[0]['topicPolicy'].get('topics', [])\n",
    "                                       if topic.get('action') == 'BLOCKED'])\n",
    "\n",
    "          # Print the modified output if available\n",
    "          if 'outputs' in response and response['outputs']:\n",
    "              print(\"Modified content:\", response['outputs'][0].get('text', 'None'))\n",
    "\n",
    "      return response\n",
    "\n",
    "# Test some safe input\n",
    "print(\" 🧪 Testing safe input 🧪:\")\n",
    "test_guardrail(\"Tell me about general financial literacy concepts.\")\n",
    "\n",
    "# Test input that should be blocked\n",
    "print(\"\\n ⚠️ Testing input that should be blocked ⚠️:\")\n",
    "test_guardrail(\"What stocks should I invest in for my retirement?\")"
   ]
  },
  {
   "cell_type": "markdown",
   "metadata": {},
   "source": [
    "Now that we confirmed the guardrail is working as expected, let's integrate Amazon Bedrock Guardrail with a Strands Agent. This is done via the Bedrock Model object, by setting the `guardrail_id`, `guardrail_version` and `guardrail_trace`. Once the model object is created you can use it to create your agent. "
   ]
  },
  {
   "cell_type": "code",
   "execution_count": 51,
   "metadata": {
    "execution": {
     "iopub.execute_input": "2025-07-09T23:20:17.674105Z",
     "iopub.status.busy": "2025-07-09T23:20:17.673807Z",
     "iopub.status.idle": "2025-07-09T23:20:17.789579Z",
     "shell.execute_reply": "2025-07-09T23:20:17.788848Z",
     "shell.execute_reply.started": "2025-07-09T23:20:17.674081Z"
    }
   },
   "outputs": [],
   "source": [
    "# Create a Bedrock model with guardrail configuration\n",
    "bedrock_model = BedrockModel(\n",
    "    model_id=\"us.anthropic.claude-3-7-sonnet-20250219-v1:0\",\n",
    "    guardrail_id=guardrail_id,\n",
    "    guardrail_version=guardrail_version,\n",
    "    # Enable trace info for debugging\n",
    "    guardrail_trace=\"enabled\"\n",
    ")\n",
    "\n",
    "# Create agent with the guardrail-protected model\n",
    "agent_with_guardrail = Agent(\n",
    "    model=bedrock_model,\n",
    "    tools=[calculate_budget, create_financial_chart, generate_sample_data],\n",
    "    system_prompt=\"\"\"You are a budget analysis agent.\n",
    "\n",
    "    Your capabilities:\n",
    "    - Calculate 50/30/20 budgets using calculate_budget tool\n",
    "    - Create visual charts using create_financial_chart tool  \n",
    "    - Generate sample data using generate_sample_data tool\n",
    "\n",
    "    Always be concise and use tools when appropriate.\n",
    "    Provide visual output whenever possible.\n",
    "    \"\"\"\n",
    ")"
   ]
  },
  {
   "cell_type": "code",
   "execution_count": null,
   "metadata": {},
   "outputs": [],
   "source": [
    "# Testing the Agent with Guardrail\n",
    "\n",
    "# Start conversation\n",
    "while True:\n",
    "    user_input = input(\"\\nYou: \")\n",
    "    \n",
    "    if user_input.lower() == \"exit\":\n",
    "        print(\"Goodbye!\")\n",
    "        break\n",
    "    \n",
    "    # Process the user input and get a response\n",
    "    response = agent_with_guardrail(user_input)"
   ]
  },
  {
   "cell_type": "markdown",
   "metadata": {},
   "source": [
    "## Step 7: Save Data for Next Labs\n",
    "\n",
    "Create foundation data that Lab 3 and Lab 6 will use:"
   ]
  },
  {
   "cell_type": "code",
   "execution_count": 29,
   "metadata": {
    "execution": {
     "iopub.execute_input": "2025-07-09T19:03:12.210900Z",
     "iopub.status.busy": "2025-07-09T19:03:12.210171Z",
     "iopub.status.idle": "2025-07-09T19:03:12.217849Z",
     "shell.execute_reply": "2025-07-09T19:03:12.217174Z",
     "shell.execute_reply.started": "2025-07-09T19:03:12.210874Z"
    }
   },
   "outputs": [
    {
     "name": "stdout",
     "output_type": "stream",
     "text": [
      "💾 Creating foundation data for Lab 3 and Lab 6...\n",
      "✅ Foundation data saved:\n",
      "• user_profile.json - Personal financial profile\n",
      "• spending_summary.json - Spending analysis\n",
      "• Total monthly spending: $1,500\n",
      "• Budget remaining: $3,500\n",
      "\n",
      "🎯 Ready for Lab 3: Memory + MCP Integration!\n"
     ]
    }
   ],
   "source": [
    "print(\"💾 Creating foundation data for Lab 2 and Lab 3...\")\n",
    "\n",
    "# Ensure we have sample data\n",
    "if 'sample_spending_data' not in globals():\n",
    "    sample_spending_data = {\n",
    "        'Groceries': 400, 'Dining': 300, 'Transportation': 200,\n",
    "        'Entertainment': 150, 'Utilities': 250, 'Shopping': 200\n",
    "    }\n",
    "\n",
    "# Create enhanced user profile for next labs\n",
    "user_profile = {\n",
    "    \"monthly_income\": 5000,\n",
    "    \"savings_goal\": 1000,\n",
    "    \"spending_categories\": sample_spending_data,\n",
    "    \"focus_areas\": [\"dining\", \"shopping\"],\n",
    "    \"risk_tolerance\": \"moderate\",\n",
    "    \"created_in_lab\": 1,\n",
    "    \"created_date\": datetime.now().isoformat()\n",
    "}\n",
    "\n",
    "# Save user profile\n",
    "with open('user_profile.json', 'w') as f:\n",
    "    json.dump(user_profile, f, indent=2)\n",
    "\n",
    "# Create spending summary\n",
    "spending_summary = {\n",
    "    \"total_monthly_spending\": sum(sample_spending_data.values()),\n",
    "    \"categories\": sample_spending_data,\n",
    "    \"budget_remaining\": user_profile[\"monthly_income\"] - sum(sample_spending_data.values()),\n",
    "    \"lab1_completed\": True\n",
    "}\n",
    "\n",
    "with open('spending_summary.json', 'w') as f:\n",
    "    json.dump(spending_summary, f, indent=2)\n",
    "\n",
    "print(\"✅ Foundation data saved:\")\n",
    "print(f\"• user_profile.json - Personal financial profile\")\n",
    "print(f\"• spending_summary.json - Spending analysis\")\n",
    "print(f\"• Total monthly spending: ${sum(sample_spending_data.values()):,}\")\n",
    "print(f\"• Budget remaining: ${user_profile['monthly_income'] - sum(sample_spending_data.values()):,}\")\n",
    "print(\"\\n🎯 Ready for Lab 2: Memory + MCP Integration!\")"
   ]
  },
  {
   "cell_type": "markdown",
   "metadata": {},
   "source": [
    "## Lab 1 Complete - AWS Workshop\n",
    "\n",
    "### 🎉 What You've Mastered:\n",
    "\n",
    "✅ **Core Strands Patterns:**\n",
    "- `Agent(model=BedrockModel(...))` - Basic agent creation\n",
    "- `@tool def function()` - Custom tool development  \n",
    "- `Agent(model=model, tools=[...], system_prompt=\"...\")` - Full agent setup\n",
    "- Autonomous tool selection by agents\n",
    "\n",
    "✅ **Key Skills Gained:**\n",
    "- Created AWS Bedrock + Strands integration\n",
    "- Integrated Amazon Bedrock Guardrails to add safety filters to the agent\n",
    "- Made agents that automatically choose appropriate tools\n",
    "\n",
    "✅ **Files Created for Next Labs:**\n",
    "- `user_profile.json` - Your financial profile (Lab 3 will remember this!)\n",
    "- `spending_summary.json` - Spending analysis (Lab 6 will use this!)\n",
    "- Reusable chart tool (All labs will use this!)\n",
    "\n",
    "### 🚀 Next: Lab 2 - Memory + MCP Integration\n",
    "\n",
    "In Lab 3, you'll learn how agents can:\n",
    "- Remember previous conversations using `agent.messages`\n",
    "- Connect to external data sources via MCP\n",
    "- Provide personalized advice based on your Lab 1 profile\n",
    "\n",
    "**Progressive Learning**: Lab 3 will reuse your Lab 1 data and tools!\n",
    "\n",
    "---\n",
    "\n",
    "### 📚 Strands Patterns Learned:\n",
    "\n",
    "| Pattern | Purpose | Example |\n",
    "|---------|---------|---------|\n",
    "| `Agent(model=model)` | Basic agent | Simple Q&A agent |\n",
    "| `@tool` | Custom function | Budget calculator |\n",
    "| `Agent(tools=[...])` | Tool-enabled agent | Autonomous tool selection |\n",
    "| `system_prompt` | Agent specialization | Financial expertise |\n",
    "\n",
    "**🎯 You now understand the core building blocks of Strands Agents!**"
   ]
  },
  {
   "cell_type": "code",
   "execution_count": null,
   "metadata": {},
   "outputs": [],
   "source": []
  }
 ],
 "metadata": {
  "kernelspec": {
   "display_name": "Python 3 (ipykernel)",
   "language": "python",
   "name": "python3"
  },
  "language_info": {
   "codemirror_mode": {
    "name": "ipython",
    "version": 3
   },
   "file_extension": ".py",
   "mimetype": "text/x-python",
   "name": "python",
   "nbconvert_exporter": "python",
   "pygments_lexer": "ipython3",
   "version": "3.12.9"
  }
 },
 "nbformat": 4,
 "nbformat_minor": 4
}
